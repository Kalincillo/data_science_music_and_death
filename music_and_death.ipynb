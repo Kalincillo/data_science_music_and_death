{
 "cells": [
  {
   "cell_type": "code",
   "execution_count": 1,
   "id": "ac9e906e",
   "metadata": {},
   "outputs": [],
   "source": [
    "# Install MySql packages\n",
    "# conda update -n base -c conda-forge conda --yes\n",
    "# !pip install ipython-sql\n",
    "# !pip install mysql-connector-python\n",
    "# !conda install -c conda-forge python-dotenv --yes"
   ]
  },
  {
   "cell_type": "code",
   "execution_count": 2,
   "id": "c66f8002",
   "metadata": {},
   "outputs": [],
   "source": [
    "import pandas as pd\n",
    "import numpy as np\n",
    "import matplotlib.pyplot as plt\n",
    "import seaborn as sns\n",
    "import statsmodels as sm\n",
    "import mysql.connector\n",
    "from mysql.connector import Error\n",
    "from os import environ, path\n",
    "from dotenv import load_dotenv\n",
    "from pandas.api.types import CategoricalDtype"
   ]
  },
  {
   "cell_type": "code",
   "execution_count": 3,
   "id": "b020b5ce",
   "metadata": {},
   "outputs": [],
   "source": [
    "# Read enviromental variables to connect the database\n",
    "load_dotenv()\n",
    "password = environ.get('PASSWORD')\n",
    "host = environ.get('HOST')\n",
    "database = environ.get('DATABASE')"
   ]
  },
  {
   "cell_type": "code",
   "execution_count": 4,
   "id": "b86417ba",
   "metadata": {},
   "outputs": [],
   "source": [
    "# List of colors\n",
    "colors = ['lime', 'darkorange', 'darkgreen', 'royalblue', \n",
    "         'darkred', 'gold', 'teal', 'blueviolet', 'coral', \n",
    "         'yellowgreen', 'steelblue', 'crimson', 'tan']"
   ]
  },
  {
   "cell_type": "markdown",
   "id": "dd76f153",
   "metadata": {},
   "source": [
    "## Connect to the database and create dataframes for each table"
   ]
  },
  {
   "cell_type": "code",
   "execution_count": 5,
   "id": "a82db39a",
   "metadata": {},
   "outputs": [
    {
     "name": "stdout",
     "output_type": "stream",
     "text": [
      "Succes Connected\n"
     ]
    }
   ],
   "source": [
    "try:\n",
    "    connection = mysql.connector.connect(host=host ,\n",
    "                                        database=database,\n",
    "                                        user='root',\n",
    "                                        password=password)\n",
    "    if connection.is_connected():\n",
    "        print(\"Succes Connected\")\n",
    "    df_musician = pd.read_sql_query(\"SELECT * FROM music_and_death.musician;\", connection)\n",
    "    df_birth = pd.read_sql_query(\"SELECT * FROM music_and_death.birth;\", connection)\n",
    "    df_death = pd.read_sql_query(\"SELECT * FROM music_and_death.death;\", connection)\n",
    "    df_genre = pd.read_sql_query(\"SELECT * FROM music_and_death.music_genre;\", connection)\n",
    "    genre = pd.read_sql_query(\"SELECT * FROM music_and_death.genre;\", connection)\n",
    "    cause_death = pd.read_sql_query(\"SELECT * FROM music_and_death.cause_death;\", connection)\n",
    "    cities = pd.read_sql_query(\"SELECT * FROM music_and_death.cities;\", connection)\n",
    "    states = pd.read_sql_query(\"SELECT * FROM music_and_death.states;\", connection)\n",
    "    countries = pd.read_sql_query(\"SELECT * FROM music_and_death.countries;\", connection)\n",
    "    \n",
    "    \n",
    "except Error as e:\n",
    "    print(\"Error closing connection\")\n",
    "\n",
    "# Concatenate tables\n",
    "else:\n",
    "    # Concatenate musician and death dataframes\n",
    "    df = pd.concat([df_musician, df_birth], axis=1)\n",
    "    df = pd.concat([df, df_death], axis=1)\n",
    "    df = pd.merge(df, cause_death, on=[\"death_id\", \"death_id\"])\n",
    "    df = df.loc[:, ~df.columns.duplicated()].copy()\n",
    "    df = pd.merge(df, df_genre, on=[\"musician_id\"])\n",
    "    df = df.loc[:, ~df.columns.duplicated()].copy()\n",
    "    df = pd.merge(df, genre, on=[\"genre_id\"])\n",
    "    # rearrange columns\n",
    "    df = df.iloc[:, [0, 1, 2, 3, 5, 7, 8, 9, 11, 6, 4, 10]]\n",
    "    \n",
    "finally:\n",
    "    connection.close()"
   ]
  },
  {
   "cell_type": "markdown",
   "id": "0bb539a3",
   "metadata": {},
   "source": [
    "## Merge and clean the cities, states and countries tables"
   ]
  },
  {
   "cell_type": "code",
   "execution_count": 6,
   "id": "9aab8146",
   "metadata": {},
   "outputs": [],
   "source": [
    "# merge cities table with states table\n",
    "place = cities.merge(states, \n",
    "                      left_on=cities[\"state_id\"], \n",
    "                      right_on=states[\"id\"])\n",
    "\n",
    "# drop duplicate keys\n",
    "place.drop(['key_0', 'state_id', 'id_y'], axis=1, inplace=True)\n",
    "\n",
    "# merge resulted table with countries table\n",
    "place = place.merge(countries, \n",
    "                        left_on=place[\"country_id\"],\n",
    "                        right_on=countries[\"id\"])\n",
    "\n",
    "# drop duplicated keys\n",
    "place.drop(['key_0', 'country_id', 'id', 'iso2', 'capital'], \n",
    "              axis=1, \n",
    "              inplace=True)\n",
    "\n",
    "# rename column names\n",
    "place.rename(\n",
    "    columns={'name_x': 'City', \n",
    "             'name_y': 'State', \n",
    "             'name': 'Country', \n",
    "             'id_x': 'city_id'},\n",
    "    inplace=True\n",
    ")"
   ]
  },
  {
   "cell_type": "markdown",
   "id": "1e12bf87",
   "metadata": {},
   "source": [
    "##  Drop columns with not use"
   ]
  },
  {
   "cell_type": "code",
   "execution_count": 7,
   "id": "c40793a1",
   "metadata": {},
   "outputs": [],
   "source": [
    "df.drop(['middle_name', 'death_id', \"death_date\", \"genre_id\", \"birth\"], \n",
    "        axis=1, \n",
    "        inplace=True)"
   ]
  },
  {
   "cell_type": "code",
   "execution_count": 8,
   "id": "66f967c0",
   "metadata": {},
   "outputs": [
    {
     "data": {
      "text/html": [
       "<div>\n",
       "<style scoped>\n",
       "    .dataframe tbody tr th:only-of-type {\n",
       "        vertical-align: middle;\n",
       "    }\n",
       "\n",
       "    .dataframe tbody tr th {\n",
       "        vertical-align: top;\n",
       "    }\n",
       "\n",
       "    .dataframe thead th {\n",
       "        text-align: right;\n",
       "    }\n",
       "</style>\n",
       "<table border=\"1\" class=\"dataframe\">\n",
       "  <thead>\n",
       "    <tr style=\"text-align: right;\">\n",
       "      <th></th>\n",
       "      <th>musician_id</th>\n",
       "      <th>stage_name</th>\n",
       "      <th>stage_lastname</th>\n",
       "      <th>death_age</th>\n",
       "      <th>cause</th>\n",
       "      <th>genre</th>\n",
       "      <th>birthplace_id</th>\n",
       "    </tr>\n",
       "  </thead>\n",
       "  <tbody>\n",
       "    <tr>\n",
       "      <th>0</th>\n",
       "      <td>1</td>\n",
       "      <td>John</td>\n",
       "      <td>Lennon</td>\n",
       "      <td>40</td>\n",
       "      <td>homicide</td>\n",
       "      <td>rock</td>\n",
       "      <td>50337</td>\n",
       "    </tr>\n",
       "    <tr>\n",
       "      <th>1</th>\n",
       "      <td>432</td>\n",
       "      <td>Kit</td>\n",
       "      <td>Lambert</td>\n",
       "      <td>45</td>\n",
       "      <td>homicide</td>\n",
       "      <td>rock</td>\n",
       "      <td>50388</td>\n",
       "    </tr>\n",
       "    <tr>\n",
       "      <th>2</th>\n",
       "      <td>459</td>\n",
       "      <td>Rusty</td>\n",
       "      <td>Day</td>\n",
       "      <td>36</td>\n",
       "      <td>homicide</td>\n",
       "      <td>rock</td>\n",
       "      <td>117057</td>\n",
       "    </tr>\n",
       "    <tr>\n",
       "      <th>3</th>\n",
       "      <td>481</td>\n",
       "      <td>Felix</td>\n",
       "      <td>Pappalardi</td>\n",
       "      <td>43</td>\n",
       "      <td>homicide</td>\n",
       "      <td>rock</td>\n",
       "      <td>122795</td>\n",
       "    </tr>\n",
       "    <tr>\n",
       "      <th>4</th>\n",
       "      <td>559</td>\n",
       "      <td>Tommy</td>\n",
       "      <td>Blake</td>\n",
       "      <td>54</td>\n",
       "      <td>homicide</td>\n",
       "      <td>rock</td>\n",
       "      <td>114990</td>\n",
       "    </tr>\n",
       "    <tr>\n",
       "      <th>...</th>\n",
       "      <td>...</td>\n",
       "      <td>...</td>\n",
       "      <td>...</td>\n",
       "      <td>...</td>\n",
       "      <td>...</td>\n",
       "      <td>...</td>\n",
       "      <td>...</td>\n",
       "    </tr>\n",
       "    <tr>\n",
       "      <th>856</th>\n",
       "      <td>516</td>\n",
       "      <td>Meredith</td>\n",
       "      <td>Willson</td>\n",
       "      <td>82</td>\n",
       "      <td>heart disease</td>\n",
       "      <td>classical</td>\n",
       "      <td>121375</td>\n",
       "    </tr>\n",
       "    <tr>\n",
       "      <th>857</th>\n",
       "      <td>478</td>\n",
       "      <td>William</td>\n",
       "      <td>Walton</td>\n",
       "      <td>80</td>\n",
       "      <td>natural causes</td>\n",
       "      <td>classical</td>\n",
       "      <td>50807</td>\n",
       "    </tr>\n",
       "    <tr>\n",
       "      <th>858</th>\n",
       "      <td>703</td>\n",
       "      <td>Irving</td>\n",
       "      <td>Berlin</td>\n",
       "      <td>101</td>\n",
       "      <td>natural causes</td>\n",
       "      <td>classical</td>\n",
       "      <td>102005</td>\n",
       "    </tr>\n",
       "    <tr>\n",
       "      <th>859</th>\n",
       "      <td>185</td>\n",
       "      <td>Nelson</td>\n",
       "      <td>Eddy</td>\n",
       "      <td>65</td>\n",
       "      <td>brain related</td>\n",
       "      <td>classical</td>\n",
       "      <td>124716</td>\n",
       "    </tr>\n",
       "    <tr>\n",
       "      <th>860</th>\n",
       "      <td>701</td>\n",
       "      <td>Pérez</td>\n",
       "      <td>Prado</td>\n",
       "      <td>72</td>\n",
       "      <td>heart disease</td>\n",
       "      <td>mambo</td>\n",
       "      <td>21897</td>\n",
       "    </tr>\n",
       "  </tbody>\n",
       "</table>\n",
       "<p>861 rows × 7 columns</p>\n",
       "</div>"
      ],
      "text/plain": [
       "     musician_id stage_name stage_lastname  death_age           cause  \\\n",
       "0              1       John         Lennon         40        homicide   \n",
       "1            432        Kit        Lambert         45        homicide   \n",
       "2            459      Rusty            Day         36        homicide   \n",
       "3            481      Felix     Pappalardi         43        homicide   \n",
       "4            559      Tommy          Blake         54        homicide   \n",
       "..           ...        ...            ...        ...             ...   \n",
       "856          516   Meredith        Willson         82   heart disease   \n",
       "857          478    William         Walton         80  natural causes   \n",
       "858          703     Irving         Berlin        101  natural causes   \n",
       "859          185     Nelson           Eddy         65   brain related   \n",
       "860          701      Pérez          Prado         72   heart disease   \n",
       "\n",
       "         genre  birthplace_id  \n",
       "0         rock          50337  \n",
       "1         rock          50388  \n",
       "2         rock         117057  \n",
       "3         rock         122795  \n",
       "4         rock         114990  \n",
       "..         ...            ...  \n",
       "856  classical         121375  \n",
       "857  classical          50807  \n",
       "858  classical         102005  \n",
       "859  classical         124716  \n",
       "860      mambo          21897  \n",
       "\n",
       "[861 rows x 7 columns]"
      ]
     },
     "execution_count": 8,
     "metadata": {},
     "output_type": "execute_result"
    }
   ],
   "source": [
    "df"
   ]
  },
  {
   "cell_type": "code",
   "execution_count": 9,
   "id": "12694b51",
   "metadata": {},
   "outputs": [
    {
     "data": {
      "text/html": [
       "<div>\n",
       "<style scoped>\n",
       "    .dataframe tbody tr th:only-of-type {\n",
       "        vertical-align: middle;\n",
       "    }\n",
       "\n",
       "    .dataframe tbody tr th {\n",
       "        vertical-align: top;\n",
       "    }\n",
       "\n",
       "    .dataframe thead th {\n",
       "        text-align: right;\n",
       "    }\n",
       "</style>\n",
       "<table border=\"1\" class=\"dataframe\">\n",
       "  <thead>\n",
       "    <tr style=\"text-align: right;\">\n",
       "      <th></th>\n",
       "      <th>city_id</th>\n",
       "      <th>City</th>\n",
       "      <th>State</th>\n",
       "      <th>Country</th>\n",
       "    </tr>\n",
       "  </thead>\n",
       "  <tbody>\n",
       "    <tr>\n",
       "      <th>0</th>\n",
       "      <td>52</td>\n",
       "      <td>Ashkāsham</td>\n",
       "      <td>Badakhshan</td>\n",
       "      <td>Afghanistan</td>\n",
       "    </tr>\n",
       "    <tr>\n",
       "      <th>1</th>\n",
       "      <td>68</td>\n",
       "      <td>Fayzabad</td>\n",
       "      <td>Badakhshan</td>\n",
       "      <td>Afghanistan</td>\n",
       "    </tr>\n",
       "    <tr>\n",
       "      <th>2</th>\n",
       "      <td>78</td>\n",
       "      <td>Jurm</td>\n",
       "      <td>Badakhshan</td>\n",
       "      <td>Afghanistan</td>\n",
       "    </tr>\n",
       "    <tr>\n",
       "      <th>3</th>\n",
       "      <td>84</td>\n",
       "      <td>Khandūd</td>\n",
       "      <td>Badakhshan</td>\n",
       "      <td>Afghanistan</td>\n",
       "    </tr>\n",
       "    <tr>\n",
       "      <th>4</th>\n",
       "      <td>115</td>\n",
       "      <td>Rāghistān</td>\n",
       "      <td>Badakhshan</td>\n",
       "      <td>Afghanistan</td>\n",
       "    </tr>\n",
       "    <tr>\n",
       "      <th>...</th>\n",
       "      <td>...</td>\n",
       "      <td>...</td>\n",
       "      <td>...</td>\n",
       "      <td>...</td>\n",
       "    </tr>\n",
       "    <tr>\n",
       "      <th>148261</th>\n",
       "      <td>131496</td>\n",
       "      <td>Redcliff</td>\n",
       "      <td>Midlands Province</td>\n",
       "      <td>Zimbabwe</td>\n",
       "    </tr>\n",
       "    <tr>\n",
       "      <th>148262</th>\n",
       "      <td>131502</td>\n",
       "      <td>Shangani</td>\n",
       "      <td>Midlands Province</td>\n",
       "      <td>Zimbabwe</td>\n",
       "    </tr>\n",
       "    <tr>\n",
       "      <th>148263</th>\n",
       "      <td>131503</td>\n",
       "      <td>Shurugwi</td>\n",
       "      <td>Midlands Province</td>\n",
       "      <td>Zimbabwe</td>\n",
       "    </tr>\n",
       "    <tr>\n",
       "      <th>148264</th>\n",
       "      <td>131504</td>\n",
       "      <td>Shurugwi District</td>\n",
       "      <td>Midlands Province</td>\n",
       "      <td>Zimbabwe</td>\n",
       "    </tr>\n",
       "    <tr>\n",
       "      <th>148265</th>\n",
       "      <td>131508</td>\n",
       "      <td>Zvishavane District</td>\n",
       "      <td>Midlands Province</td>\n",
       "      <td>Zimbabwe</td>\n",
       "    </tr>\n",
       "  </tbody>\n",
       "</table>\n",
       "<p>148266 rows × 4 columns</p>\n",
       "</div>"
      ],
      "text/plain": [
       "        city_id                 City              State      Country\n",
       "0            52            Ashkāsham         Badakhshan  Afghanistan\n",
       "1            68             Fayzabad         Badakhshan  Afghanistan\n",
       "2            78                 Jurm         Badakhshan  Afghanistan\n",
       "3            84              Khandūd         Badakhshan  Afghanistan\n",
       "4           115            Rāghistān         Badakhshan  Afghanistan\n",
       "...         ...                  ...                ...          ...\n",
       "148261   131496             Redcliff  Midlands Province     Zimbabwe\n",
       "148262   131502             Shangani  Midlands Province     Zimbabwe\n",
       "148263   131503             Shurugwi  Midlands Province     Zimbabwe\n",
       "148264   131504    Shurugwi District  Midlands Province     Zimbabwe\n",
       "148265   131508  Zvishavane District  Midlands Province     Zimbabwe\n",
       "\n",
       "[148266 rows x 4 columns]"
      ]
     },
     "execution_count": 9,
     "metadata": {},
     "output_type": "execute_result"
    }
   ],
   "source": [
    "place"
   ]
  },
  {
   "cell_type": "markdown",
   "id": "285f50f2",
   "metadata": {},
   "source": [
    "## Merge musician info dataframe with place dataframe"
   ]
  },
  {
   "cell_type": "code",
   "execution_count": 10,
   "id": "e5f4b129",
   "metadata": {},
   "outputs": [],
   "source": [
    "# merge df and place dataframes\n",
    "musician = df.merge(place, \n",
    "                    left_on=df['birthplace_id'], \n",
    "                    right_on=place['city_id'])\n",
    "\n",
    "# drop unused columns\n",
    "musician.drop(['birthplace_id', 'city_id', 'key_0'], axis=1, inplace=True)"
   ]
  },
  {
   "cell_type": "code",
   "execution_count": 11,
   "id": "dab04141",
   "metadata": {},
   "outputs": [
    {
     "data": {
      "text/html": [
       "<div>\n",
       "<style scoped>\n",
       "    .dataframe tbody tr th:only-of-type {\n",
       "        vertical-align: middle;\n",
       "    }\n",
       "\n",
       "    .dataframe tbody tr th {\n",
       "        vertical-align: top;\n",
       "    }\n",
       "\n",
       "    .dataframe thead th {\n",
       "        text-align: right;\n",
       "    }\n",
       "</style>\n",
       "<table border=\"1\" class=\"dataframe\">\n",
       "  <thead>\n",
       "    <tr style=\"text-align: right;\">\n",
       "      <th></th>\n",
       "      <th>musician_id</th>\n",
       "      <th>stage_name</th>\n",
       "      <th>stage_lastname</th>\n",
       "      <th>death_age</th>\n",
       "      <th>cause</th>\n",
       "      <th>genre</th>\n",
       "      <th>City</th>\n",
       "      <th>State</th>\n",
       "      <th>Country</th>\n",
       "    </tr>\n",
       "  </thead>\n",
       "  <tbody>\n",
       "    <tr>\n",
       "      <th>0</th>\n",
       "      <td>1</td>\n",
       "      <td>John</td>\n",
       "      <td>Lennon</td>\n",
       "      <td>40</td>\n",
       "      <td>homicide</td>\n",
       "      <td>rock</td>\n",
       "      <td>Liverpool</td>\n",
       "      <td>England</td>\n",
       "      <td>United Kingdom</td>\n",
       "    </tr>\n",
       "    <tr>\n",
       "      <th>1</th>\n",
       "      <td>271</td>\n",
       "      <td>Rory</td>\n",
       "      <td>Storm</td>\n",
       "      <td>34</td>\n",
       "      <td>suicide</td>\n",
       "      <td>rock</td>\n",
       "      <td>Liverpool</td>\n",
       "      <td>England</td>\n",
       "      <td>United Kingdom</td>\n",
       "    </tr>\n",
       "    <tr>\n",
       "      <th>2</th>\n",
       "      <td>502</td>\n",
       "      <td>Tom</td>\n",
       "      <td>Evans</td>\n",
       "      <td>36</td>\n",
       "      <td>suicide</td>\n",
       "      <td>rock</td>\n",
       "      <td>Liverpool</td>\n",
       "      <td>England</td>\n",
       "      <td>United Kingdom</td>\n",
       "    </tr>\n",
       "    <tr>\n",
       "      <th>3</th>\n",
       "      <td>473</td>\n",
       "      <td>Billy</td>\n",
       "      <td>Fury</td>\n",
       "      <td>42</td>\n",
       "      <td>heart disease</td>\n",
       "      <td>rock</td>\n",
       "      <td>Liverpool</td>\n",
       "      <td>England</td>\n",
       "      <td>United Kingdom</td>\n",
       "    </tr>\n",
       "    <tr>\n",
       "      <th>4</th>\n",
       "      <td>188</td>\n",
       "      <td>Brian</td>\n",
       "      <td>Epstein</td>\n",
       "      <td>32</td>\n",
       "      <td>drugs related</td>\n",
       "      <td>rock</td>\n",
       "      <td>Liverpool</td>\n",
       "      <td>England</td>\n",
       "      <td>United Kingdom</td>\n",
       "    </tr>\n",
       "    <tr>\n",
       "      <th>...</th>\n",
       "      <td>...</td>\n",
       "      <td>...</td>\n",
       "      <td>...</td>\n",
       "      <td>...</td>\n",
       "      <td>...</td>\n",
       "      <td>...</td>\n",
       "      <td>...</td>\n",
       "      <td>...</td>\n",
       "      <td>...</td>\n",
       "    </tr>\n",
       "    <tr>\n",
       "      <th>855</th>\n",
       "      <td>516</td>\n",
       "      <td>Meredith</td>\n",
       "      <td>Willson</td>\n",
       "      <td>82</td>\n",
       "      <td>heart disease</td>\n",
       "      <td>classical</td>\n",
       "      <td>Mason City</td>\n",
       "      <td>Iowa</td>\n",
       "      <td>United States</td>\n",
       "    </tr>\n",
       "    <tr>\n",
       "      <th>856</th>\n",
       "      <td>478</td>\n",
       "      <td>William</td>\n",
       "      <td>Walton</td>\n",
       "      <td>80</td>\n",
       "      <td>natural causes</td>\n",
       "      <td>classical</td>\n",
       "      <td>Oldham</td>\n",
       "      <td>England</td>\n",
       "      <td>United Kingdom</td>\n",
       "    </tr>\n",
       "    <tr>\n",
       "      <th>857</th>\n",
       "      <td>703</td>\n",
       "      <td>Irving</td>\n",
       "      <td>Berlin</td>\n",
       "      <td>101</td>\n",
       "      <td>natural causes</td>\n",
       "      <td>classical</td>\n",
       "      <td>Tyumen</td>\n",
       "      <td>Tyumen Oblast</td>\n",
       "      <td>Russia</td>\n",
       "    </tr>\n",
       "    <tr>\n",
       "      <th>858</th>\n",
       "      <td>185</td>\n",
       "      <td>Nelson</td>\n",
       "      <td>Eddy</td>\n",
       "      <td>65</td>\n",
       "      <td>brain related</td>\n",
       "      <td>classical</td>\n",
       "      <td>Providence</td>\n",
       "      <td>Rhode Island</td>\n",
       "      <td>United States</td>\n",
       "    </tr>\n",
       "    <tr>\n",
       "      <th>859</th>\n",
       "      <td>701</td>\n",
       "      <td>Pérez</td>\n",
       "      <td>Prado</td>\n",
       "      <td>72</td>\n",
       "      <td>heart disease</td>\n",
       "      <td>mambo</td>\n",
       "      <td>Matanzas</td>\n",
       "      <td>Matanzas Province</td>\n",
       "      <td>Cuba</td>\n",
       "    </tr>\n",
       "  </tbody>\n",
       "</table>\n",
       "<p>860 rows × 9 columns</p>\n",
       "</div>"
      ],
      "text/plain": [
       "     musician_id stage_name stage_lastname  death_age           cause  \\\n",
       "0              1       John         Lennon         40        homicide   \n",
       "1            271       Rory          Storm         34         suicide   \n",
       "2            502        Tom          Evans         36         suicide   \n",
       "3            473      Billy           Fury         42   heart disease   \n",
       "4            188      Brian        Epstein         32   drugs related   \n",
       "..           ...        ...            ...        ...             ...   \n",
       "855          516   Meredith        Willson         82   heart disease   \n",
       "856          478    William         Walton         80  natural causes   \n",
       "857          703     Irving         Berlin        101  natural causes   \n",
       "858          185     Nelson           Eddy         65   brain related   \n",
       "859          701      Pérez          Prado         72   heart disease   \n",
       "\n",
       "         genre        City              State         Country  \n",
       "0         rock   Liverpool            England  United Kingdom  \n",
       "1         rock   Liverpool            England  United Kingdom  \n",
       "2         rock   Liverpool            England  United Kingdom  \n",
       "3         rock   Liverpool            England  United Kingdom  \n",
       "4         rock   Liverpool            England  United Kingdom  \n",
       "..         ...         ...                ...             ...  \n",
       "855  classical  Mason City               Iowa   United States  \n",
       "856  classical      Oldham            England  United Kingdom  \n",
       "857  classical      Tyumen      Tyumen Oblast          Russia  \n",
       "858  classical  Providence       Rhode Island   United States  \n",
       "859      mambo    Matanzas  Matanzas Province            Cuba  \n",
       "\n",
       "[860 rows x 9 columns]"
      ]
     },
     "execution_count": 11,
     "metadata": {},
     "output_type": "execute_result"
    }
   ],
   "source": [
    "musician"
   ]
  },
  {
   "cell_type": "code",
   "execution_count": 12,
   "id": "473c56cf",
   "metadata": {},
   "outputs": [],
   "source": [
    "musician.to_csv('musicians.csv')"
   ]
  },
  {
   "cell_type": "markdown",
   "id": "8aab8fb1",
   "metadata": {},
   "source": [
    "## Create plots to observe the data"
   ]
  },
  {
   "cell_type": "code",
   "execution_count": 13,
   "id": "3517b178",
   "metadata": {},
   "outputs": [
    {
     "data": {
      "image/png": "[encoded data removed]",
      "text/plain": [
       "<Figure size 648x360 with 1 Axes>"
      ]
     },
     "metadata": {},
     "output_type": "display_data"
    }
   ],
   "source": [
    "# Bar plot to show deaths per music genre \n",
    "\n",
    "# Create a new music table using genre as indez and size of each genre\n",
    "df_n = musician.pivot_table(index=['genre'], aggfunc='size')\n",
    "\n",
    "# plot the data\n",
    "plt.figure(figsize=(9,5), facecolor='#0085a1')\n",
    "ax = plt.axes()\n",
    "ax.set_facecolor(\"gainsboro\")\n",
    "ax.set_title(\"Total death musicians 50's to 2020's\",\n",
    "             size=22,\n",
    "             fontweight=\"bold\" )\n",
    "plt.bar(df_n.index, df_n, color=colors)\n",
    "plt.ylabel(\"Deaths\", size=18, fontweight=\"bold\")\n",
    "plt.xlabel(\"Genre\", size=18, fontweight=\"bold\")\n",
    "plt.xticks(rotation='vertical', size=14)\n",
    "plt.grid()\n",
    "plt.show()"
   ]
  },
  {
   "cell_type": "markdown",
   "id": "2c100d58",
   "metadata": {},
   "source": [
    "## Cause of death per music genre"
   ]
  },
  {
   "cell_type": "code",
   "execution_count": 14,
   "id": "6b00ead4",
   "metadata": {
    "scrolled": false
   },
   "outputs": [
    {
     "data": {
      "text/plain": [
       "cause      genre     \n",
       " accident  hip-hop        1\n",
       "           rock           2\n",
       "AIDS       blues          1\n",
       "           electronic     1\n",
       "           funk           2\n",
       "                         ..\n",
       "unknown    folk           3\n",
       "           funk           1\n",
       "           jazz          18\n",
       "           pop            8\n",
       "           rock           5\n",
       "Length: 120, dtype: int64"
      ]
     },
     "execution_count": 14,
     "metadata": {},
     "output_type": "execute_result"
    }
   ],
   "source": [
    "df_cd = musician.pivot_table(index=['cause', 'genre'], aggfunc='size')\n",
    "df_cd"
   ]
  },
  {
   "cell_type": "markdown",
   "id": "638cba84",
   "metadata": {},
   "source": [
    "# Questions"
   ]
  },
  {
   "cell_type": "markdown",
   "id": "51377a49",
   "metadata": {},
   "source": [
    "## Most common Death Ages\n"
   ]
  },
  {
   "cell_type": "code",
   "execution_count": 15,
   "id": "ad3d62e6",
   "metadata": {},
   "outputs": [],
   "source": [
    "n_da = musician['death_age'].value_counts().nlargest(10)"
   ]
  },
  {
   "cell_type": "code",
   "execution_count": 16,
   "id": "2cf719b2",
   "metadata": {},
   "outputs": [
    {
     "data": {
      "text/plain": [
       "27    33\n",
       "32    29\n",
       "28    22\n",
       "37    22\n",
       "36    21\n",
       "24    19\n",
       "49    18\n",
       "60    18\n",
       "45    18\n",
       "39    18\n",
       "Name: death_age, dtype: int64"
      ]
     },
     "execution_count": 16,
     "metadata": {},
     "output_type": "execute_result"
    }
   ],
   "source": [
    "n_da"
   ]
  },
  {
   "cell_type": "code",
   "execution_count": 17,
   "id": "bcb91fc0",
   "metadata": {},
   "outputs": [
    {
     "data": {
      "image/png": "[encoded data removed]",
      "text/plain": [
       "<Figure size 648x360 with 1 Axes>"
      ]
     },
     "metadata": {},
     "output_type": "display_data"
    }
   ],
   "source": [
    "plt.figure(figsize=(9,5), facecolor='#0085a1')\n",
    "ax = plt.axes()\n",
    "ax.set_title(\"Most common death ages\",\n",
    "             size=22,\n",
    "             fontweight=\"bold\" )\n",
    "plt.pie(n_da.values, labels=n_da.index, \n",
    "        colors=colors,\n",
    "        startangle=90,\n",
    "        shadow=True,\n",
    "        explode = [0.2, 0, 0, 0, 0, 0, 0, 0, 0, 0])\n",
    "plt.show()"
   ]
  },
  {
   "cell_type": "markdown",
   "id": "0ac38868",
   "metadata": {},
   "source": [
    "## Most common Music Genre deaths"
   ]
  },
  {
   "cell_type": "code",
   "execution_count": 18,
   "id": "bc3ec91d",
   "metadata": {},
   "outputs": [],
   "source": [
    "n_mg = musician['genre'].value_counts()"
   ]
  },
  {
   "cell_type": "code",
   "execution_count": 19,
   "id": "851575bf",
   "metadata": {},
   "outputs": [
    {
     "data": {
      "text/plain": [
       "blues         251\n",
       "rock          219\n",
       "jazz          141\n",
       "pop            74\n",
       "hip-hop        62\n",
       "country        41\n",
       "folk           27\n",
       "metal          14\n",
       "funk           11\n",
       "electronic      7\n",
       "Reggae          7\n",
       "classical       4\n",
       "mambo           1\n",
       "ska             1\n",
       "Name: genre, dtype: int64"
      ]
     },
     "execution_count": 19,
     "metadata": {},
     "output_type": "execute_result"
    }
   ],
   "source": [
    "n_mg"
   ]
  },
  {
   "cell_type": "code",
   "execution_count": 20,
   "id": "68ae17b8",
   "metadata": {},
   "outputs": [
    {
     "data": {
      "image/png": "[encoded data removed]",
      "text/plain": [
       "<Figure size 648x360 with 1 Axes>"
      ]
     },
     "metadata": {},
     "output_type": "display_data"
    }
   ],
   "source": [
    "plt.figure(figsize=(9,5), facecolor='#0085a1')\n",
    "ax = plt.axes()\n",
    "ax.set_facecolor('gainsboro')\n",
    "ax.set_title(\"Total deaths per music genre\",\n",
    "             size=22,\n",
    "             fontweight=\"bold\" )\n",
    "plt.bar(n_mg.index, n_mg.values, color=colors)\n",
    "plt.ylabel(\"Deaths\", size=18, fontweight=\"bold\")\n",
    "plt.xlabel(\"Genre\", size=18, fontweight=\"bold\")\n",
    "plt.xticks(rotation='vertical', size=14)\n",
    "plt.grid()\n",
    "plt.show()"
   ]
  },
  {
   "cell_type": "markdown",
   "id": "540d015a",
   "metadata": {},
   "source": [
    "# Places"
   ]
  },
  {
   "cell_type": "markdown",
   "id": "3bd72ef1",
   "metadata": {},
   "source": [
    "### Most common countries of origin of dead musicians"
   ]
  },
  {
   "cell_type": "code",
   "execution_count": 21,
   "id": "7ae90493",
   "metadata": {},
   "outputs": [],
   "source": [
    "n_places = musician['Country'].value_counts().nlargest(10)"
   ]
  },
  {
   "cell_type": "code",
   "execution_count": 22,
   "id": "10f8e65d",
   "metadata": {},
   "outputs": [
    {
     "data": {
      "text/plain": [
       "United States     677\n",
       "United Kingdom     86\n",
       "Canada             11\n",
       "Germany            10\n",
       "Jamaica             9\n",
       "Australia           8\n",
       "Russia              6\n",
       "South Africa        5\n",
       "France              4\n",
       "Spain               3\n",
       "Name: Country, dtype: int64"
      ]
     },
     "execution_count": 22,
     "metadata": {},
     "output_type": "execute_result"
    }
   ],
   "source": [
    "n_places"
   ]
  },
  {
   "cell_type": "code",
   "execution_count": 23,
   "id": "2ef608cf",
   "metadata": {
    "scrolled": false
   },
   "outputs": [
    {
     "data": {
      "image/png": "[encoded data removed]",
      "text/plain": [
       "<Figure size 648x360 with 1 Axes>"
      ]
     },
     "metadata": {},
     "output_type": "display_data"
    }
   ],
   "source": [
    "plt.figure(figsize=(9,5), facecolor='#0085a1')\n",
    "ax = plt.axes()\n",
    "ax.set_facecolor('gainsboro')\n",
    "ax.set_title(\"Most common countries of origin of dead musicians\",\n",
    "            size=22,\n",
    "            fontweight=\"bold\")\n",
    "plt.barh(n_places.iloc[::-1].index, n_places.iloc[::-1].values, color=colors)\n",
    "plt.ylabel(\"Country\", size=18, fontweight=\"bold\")\n",
    "plt.xlabel(\"Deaths\", size=18, fontweight=\"bold\")\n",
    "plt.yticks(size=14)\n",
    "plt.grid()\n",
    "plt.show()"
   ]
  },
  {
   "cell_type": "markdown",
   "id": "8e89fabb",
   "metadata": {},
   "source": [
    "### Most common States of origin of dead musicians"
   ]
  },
  {
   "cell_type": "code",
   "execution_count": 24,
   "id": "7f2bcde5",
   "metadata": {},
   "outputs": [],
   "source": [
    "n_states = musician['State'].value_counts().nlargest(10)"
   ]
  },
  {
   "cell_type": "code",
   "execution_count": 25,
   "id": "5ec7343e",
   "metadata": {},
   "outputs": [
    {
     "data": {
      "text/plain": [
       "New York        74\n",
       "England         73\n",
       "Mississippi     66\n",
       "Texas           52\n",
       "California      50\n",
       "Louisiana       41\n",
       "Tennessee       39\n",
       "Pennsylvania    33\n",
       "Illinois        29\n",
       "Alabama         25\n",
       "Name: State, dtype: int64"
      ]
     },
     "execution_count": 25,
     "metadata": {},
     "output_type": "execute_result"
    }
   ],
   "source": [
    "n_states"
   ]
  },
  {
   "cell_type": "code",
   "execution_count": 26,
   "id": "5a393136",
   "metadata": {},
   "outputs": [
    {
     "data": {
      "image/png": "[encoded data removed]",
      "text/plain": [
       "<Figure size 648x360 with 1 Axes>"
      ]
     },
     "metadata": {},
     "output_type": "display_data"
    }
   ],
   "source": [
    "plt.figure(figsize=(9,5), facecolor='#0085a1')\n",
    "ax = plt.axes()\n",
    "ax.set_facecolor('gainsboro')\n",
    "ax.set_title(\"Most common states of origin of dead musicians\",\n",
    "            size=22,\n",
    "            fontweight=\"bold\")\n",
    "plt.barh(n_states.iloc[::-1].index, n_states.iloc[::-1].values, color=colors)\n",
    "plt.ylabel(\"State\", size=18, fontweight=\"bold\")\n",
    "plt.xlabel(\"Deaths\", size=18, fontweight=\"bold\")\n",
    "plt.yticks(size=14)\n",
    "plt.grid()\n",
    "plt.show()"
   ]
  },
  {
   "cell_type": "markdown",
   "id": "cdbb2ec1",
   "metadata": {},
   "source": [
    "### Most common Cities"
   ]
  },
  {
   "cell_type": "code",
   "execution_count": 27,
   "id": "61c5e88c",
   "metadata": {},
   "outputs": [],
   "source": [
    "n_cities = musician['City'].value_counts().nlargest(10)"
   ]
  },
  {
   "cell_type": "code",
   "execution_count": 28,
   "id": "562466c4",
   "metadata": {},
   "outputs": [
    {
     "data": {
      "text/plain": [
       "New York City    39\n",
       "London           29\n",
       "Chicago          25\n",
       "Philadelphia     21\n",
       "Los Angeles      19\n",
       "Memphis          18\n",
       "New Orleans      17\n",
       "Birmingham       15\n",
       "Detroit           9\n",
       "Dallas            8\n",
       "Name: City, dtype: int64"
      ]
     },
     "execution_count": 28,
     "metadata": {},
     "output_type": "execute_result"
    }
   ],
   "source": [
    "n_cities"
   ]
  },
  {
   "cell_type": "code",
   "execution_count": 29,
   "id": "00be00f3",
   "metadata": {},
   "outputs": [
    {
     "data": {
      "image/png": "[encoded data removed]",
      "text/plain": [
       "<Figure size 648x360 with 1 Axes>"
      ]
     },
     "metadata": {},
     "output_type": "display_data"
    }
   ],
   "source": [
    "plt.figure(figsize=(9, 5), facecolor='#0085a1')\n",
    "ax = plt.axes()\n",
    "ax.set_facecolor('gainsboro')\n",
    "ax.set_title(\"Most common city of origin of dead musicians\",\n",
    "            size=22,\n",
    "            fontweight=\"bold\")\n",
    "plt.barh(n_cities.iloc[::-1].index, n_cities.iloc[::-1].values, color=colors)\n",
    "plt.ylabel(\"City\", size=18, fontweight=\"bold\")\n",
    "plt.xlabel(\"Deaths\", size=18, fontweight=\"bold\")\n",
    "plt.yticks(size=14)\n",
    "plt.grid()\n",
    "plt.show()"
   ]
  },
  {
   "cell_type": "markdown",
   "id": "e0922580",
   "metadata": {},
   "source": []
  },
  {
   "cell_type": "markdown",
   "id": "0306fad8",
   "metadata": {},
   "source": [
    "## Death genre - cause"
   ]
  },
  {
   "cell_type": "code",
   "execution_count": 30,
   "id": "2998eca5",
   "metadata": {},
   "outputs": [],
   "source": [
    "n_cd_gr = musician.loc[:, ['genre', 'cause']].value_counts()"
   ]
  },
  {
   "cell_type": "code",
   "execution_count": 31,
   "id": "5695506b",
   "metadata": {},
   "outputs": [
    {
     "data": {
      "text/plain": [
       "genre    cause                  \n",
       "blues    heart disease              69\n",
       "hip-hop  homicide                   58\n",
       "blues    unknown                    50\n",
       "jazz     cancer                     38\n",
       "         heart disease              38\n",
       "blues    cancer                     37\n",
       "rock     drugs related              35\n",
       "         heart disease              35\n",
       "         suicide                    24\n",
       "         car/motorcycle accident    23\n",
       "dtype: int64"
      ]
     },
     "execution_count": 31,
     "metadata": {},
     "output_type": "execute_result"
    }
   ],
   "source": [
    "n_cd_gr.head(10)"
   ]
  },
  {
   "cell_type": "code",
   "execution_count": 32,
   "id": "488fdbb2",
   "metadata": {},
   "outputs": [],
   "source": [
    "n_cd_gr = n_cd_gr.reset_index()\n",
    "n_cd_gr.rename(columns={0: 'deaths'}, inplace=True)"
   ]
  },
  {
   "cell_type": "code",
   "execution_count": 33,
   "id": "c5ba0cbd",
   "metadata": {},
   "outputs": [
    {
     "data": {
      "text/html": [
       "<div>\n",
       "<style scoped>\n",
       "    .dataframe tbody tr th:only-of-type {\n",
       "        vertical-align: middle;\n",
       "    }\n",
       "\n",
       "    .dataframe tbody tr th {\n",
       "        vertical-align: top;\n",
       "    }\n",
       "\n",
       "    .dataframe thead th {\n",
       "        text-align: right;\n",
       "    }\n",
       "</style>\n",
       "<table border=\"1\" class=\"dataframe\">\n",
       "  <thead>\n",
       "    <tr style=\"text-align: right;\">\n",
       "      <th></th>\n",
       "      <th>genre</th>\n",
       "      <th>cause</th>\n",
       "      <th>deaths</th>\n",
       "    </tr>\n",
       "  </thead>\n",
       "  <tbody>\n",
       "    <tr>\n",
       "      <th>0</th>\n",
       "      <td>blues</td>\n",
       "      <td>heart disease</td>\n",
       "      <td>69</td>\n",
       "    </tr>\n",
       "    <tr>\n",
       "      <th>1</th>\n",
       "      <td>hip-hop</td>\n",
       "      <td>homicide</td>\n",
       "      <td>58</td>\n",
       "    </tr>\n",
       "    <tr>\n",
       "      <th>2</th>\n",
       "      <td>blues</td>\n",
       "      <td>unknown</td>\n",
       "      <td>50</td>\n",
       "    </tr>\n",
       "    <tr>\n",
       "      <th>3</th>\n",
       "      <td>jazz</td>\n",
       "      <td>cancer</td>\n",
       "      <td>38</td>\n",
       "    </tr>\n",
       "    <tr>\n",
       "      <th>4</th>\n",
       "      <td>jazz</td>\n",
       "      <td>heart disease</td>\n",
       "      <td>38</td>\n",
       "    </tr>\n",
       "    <tr>\n",
       "      <th>...</th>\n",
       "      <td>...</td>\n",
       "      <td>...</td>\n",
       "      <td>...</td>\n",
       "    </tr>\n",
       "    <tr>\n",
       "      <th>115</th>\n",
       "      <td>jazz</td>\n",
       "      <td>natural causes</td>\n",
       "      <td>1</td>\n",
       "    </tr>\n",
       "    <tr>\n",
       "      <th>116</th>\n",
       "      <td>jazz</td>\n",
       "      <td>suicide</td>\n",
       "      <td>1</td>\n",
       "    </tr>\n",
       "    <tr>\n",
       "      <th>117</th>\n",
       "      <td>jazz</td>\n",
       "      <td>surgery</td>\n",
       "      <td>1</td>\n",
       "    </tr>\n",
       "    <tr>\n",
       "      <th>118</th>\n",
       "      <td>mambo</td>\n",
       "      <td>heart disease</td>\n",
       "      <td>1</td>\n",
       "    </tr>\n",
       "    <tr>\n",
       "      <th>119</th>\n",
       "      <td>ska</td>\n",
       "      <td>suicide</td>\n",
       "      <td>1</td>\n",
       "    </tr>\n",
       "  </tbody>\n",
       "</table>\n",
       "<p>120 rows × 3 columns</p>\n",
       "</div>"
      ],
      "text/plain": [
       "       genre           cause  deaths\n",
       "0      blues   heart disease      69\n",
       "1    hip-hop        homicide      58\n",
       "2      blues         unknown      50\n",
       "3       jazz          cancer      38\n",
       "4       jazz   heart disease      38\n",
       "..       ...             ...     ...\n",
       "115     jazz  natural causes       1\n",
       "116     jazz         suicide       1\n",
       "117     jazz         surgery       1\n",
       "118    mambo   heart disease       1\n",
       "119      ska         suicide       1\n",
       "\n",
       "[120 rows x 3 columns]"
      ]
     },
     "execution_count": 33,
     "metadata": {},
     "output_type": "execute_result"
    }
   ],
   "source": [
    "n_cd_gr"
   ]
  },
  {
   "cell_type": "markdown",
   "id": "aa18498f",
   "metadata": {},
   "source": [
    "### Blues "
   ]
  },
  {
   "cell_type": "code",
   "execution_count": 34,
   "id": "c0665ed9",
   "metadata": {},
   "outputs": [],
   "source": [
    "n_blues = n_cd_gr.loc[n_cd_gr['genre'] == 'blues', ]"
   ]
  },
  {
   "cell_type": "code",
   "execution_count": 35,
   "id": "ed7c262c",
   "metadata": {},
   "outputs": [
    {
     "data": {
      "text/html": [
       "<div>\n",
       "<style scoped>\n",
       "    .dataframe tbody tr th:only-of-type {\n",
       "        vertical-align: middle;\n",
       "    }\n",
       "\n",
       "    .dataframe tbody tr th {\n",
       "        vertical-align: top;\n",
       "    }\n",
       "\n",
       "    .dataframe thead th {\n",
       "        text-align: right;\n",
       "    }\n",
       "</style>\n",
       "<table border=\"1\" class=\"dataframe\">\n",
       "  <thead>\n",
       "    <tr style=\"text-align: right;\">\n",
       "      <th></th>\n",
       "      <th>genre</th>\n",
       "      <th>cause</th>\n",
       "      <th>deaths</th>\n",
       "    </tr>\n",
       "  </thead>\n",
       "  <tbody>\n",
       "    <tr>\n",
       "      <th>0</th>\n",
       "      <td>blues</td>\n",
       "      <td>heart disease</td>\n",
       "      <td>69</td>\n",
       "    </tr>\n",
       "    <tr>\n",
       "      <th>2</th>\n",
       "      <td>blues</td>\n",
       "      <td>unknown</td>\n",
       "      <td>50</td>\n",
       "    </tr>\n",
       "    <tr>\n",
       "      <th>5</th>\n",
       "      <td>blues</td>\n",
       "      <td>cancer</td>\n",
       "      <td>37</td>\n",
       "    </tr>\n",
       "    <tr>\n",
       "      <th>14</th>\n",
       "      <td>blues</td>\n",
       "      <td>homicide</td>\n",
       "      <td>15</td>\n",
       "    </tr>\n",
       "    <tr>\n",
       "      <th>16</th>\n",
       "      <td>blues</td>\n",
       "      <td>respiratory disease</td>\n",
       "      <td>13</td>\n",
       "    </tr>\n",
       "    <tr>\n",
       "      <th>20</th>\n",
       "      <td>blues</td>\n",
       "      <td>diabetes</td>\n",
       "      <td>10</td>\n",
       "    </tr>\n",
       "    <tr>\n",
       "      <th>23</th>\n",
       "      <td>blues</td>\n",
       "      <td>drugs related</td>\n",
       "      <td>9</td>\n",
       "    </tr>\n",
       "    <tr>\n",
       "      <th>25</th>\n",
       "      <td>blues</td>\n",
       "      <td>car/motorcycle accident</td>\n",
       "      <td>8</td>\n",
       "    </tr>\n",
       "    <tr>\n",
       "      <th>27</th>\n",
       "      <td>blues</td>\n",
       "      <td>brain related</td>\n",
       "      <td>8</td>\n",
       "    </tr>\n",
       "    <tr>\n",
       "      <th>32</th>\n",
       "      <td>blues</td>\n",
       "      <td>alcohol related</td>\n",
       "      <td>6</td>\n",
       "    </tr>\n",
       "    <tr>\n",
       "      <th>33</th>\n",
       "      <td>blues</td>\n",
       "      <td>natural causes</td>\n",
       "      <td>6</td>\n",
       "    </tr>\n",
       "    <tr>\n",
       "      <th>41</th>\n",
       "      <td>blues</td>\n",
       "      <td>suicide</td>\n",
       "      <td>5</td>\n",
       "    </tr>\n",
       "    <tr>\n",
       "      <th>48</th>\n",
       "      <td>blues</td>\n",
       "      <td>aircraft accident</td>\n",
       "      <td>4</td>\n",
       "    </tr>\n",
       "    <tr>\n",
       "      <th>54</th>\n",
       "      <td>blues</td>\n",
       "      <td>kidney related</td>\n",
       "      <td>3</td>\n",
       "    </tr>\n",
       "    <tr>\n",
       "      <th>68</th>\n",
       "      <td>blues</td>\n",
       "      <td>surgery</td>\n",
       "      <td>2</td>\n",
       "    </tr>\n",
       "    <tr>\n",
       "      <th>90</th>\n",
       "      <td>blues</td>\n",
       "      <td>AIDS</td>\n",
       "      <td>1</td>\n",
       "    </tr>\n",
       "    <tr>\n",
       "      <th>91</th>\n",
       "      <td>blues</td>\n",
       "      <td>Burned</td>\n",
       "      <td>1</td>\n",
       "    </tr>\n",
       "    <tr>\n",
       "      <th>92</th>\n",
       "      <td>blues</td>\n",
       "      <td>accidental self-inflicted gunshot</td>\n",
       "      <td>1</td>\n",
       "    </tr>\n",
       "    <tr>\n",
       "      <th>93</th>\n",
       "      <td>blues</td>\n",
       "      <td>drawning</td>\n",
       "      <td>1</td>\n",
       "    </tr>\n",
       "    <tr>\n",
       "      <th>94</th>\n",
       "      <td>blues</td>\n",
       "      <td>infection</td>\n",
       "      <td>1</td>\n",
       "    </tr>\n",
       "    <tr>\n",
       "      <th>95</th>\n",
       "      <td>blues</td>\n",
       "      <td>pancreatitis</td>\n",
       "      <td>1</td>\n",
       "    </tr>\n",
       "  </tbody>\n",
       "</table>\n",
       "</div>"
      ],
      "text/plain": [
       "    genre                              cause  deaths\n",
       "0   blues                      heart disease      69\n",
       "2   blues                            unknown      50\n",
       "5   blues                             cancer      37\n",
       "14  blues                           homicide      15\n",
       "16  blues                respiratory disease      13\n",
       "20  blues                           diabetes      10\n",
       "23  blues                      drugs related       9\n",
       "25  blues            car/motorcycle accident       8\n",
       "27  blues                      brain related       8\n",
       "32  blues                    alcohol related       6\n",
       "33  blues                     natural causes       6\n",
       "41  blues                            suicide       5\n",
       "48  blues                  aircraft accident       4\n",
       "54  blues                     kidney related       3\n",
       "68  blues                            surgery       2\n",
       "90  blues                               AIDS       1\n",
       "91  blues                             Burned       1\n",
       "92  blues  accidental self-inflicted gunshot       1\n",
       "93  blues                           drawning       1\n",
       "94  blues                          infection       1\n",
       "95  blues                       pancreatitis       1"
      ]
     },
     "execution_count": 35,
     "metadata": {},
     "output_type": "execute_result"
    }
   ],
   "source": [
    "n_blues"
   ]
  },
  {
   "cell_type": "code",
   "execution_count": 36,
   "id": "406640e3",
   "metadata": {},
   "outputs": [
    {
     "data": {
      "image/png": "[encoded data removed]",
      "text/plain": [
       "<Figure size 504x504 with 1 Axes>"
      ]
     },
     "metadata": {},
     "output_type": "display_data"
    }
   ],
   "source": [
    "plt.figure(figsize=(7,7), facecolor='#0085a1')\n",
    "ax = plt.axes()\n",
    "ax.set_facecolor('gainsboro')\n",
    "ax.set_title(\"Cause of death Blues musicians\",\n",
    "            size=22,\n",
    "            fontweight=\"bold\")\n",
    "plt.barh(n_blues['cause'].iloc[::-1],\n",
    "         n_blues['deaths'].iloc[::-1],\n",
    "         color=colors)\n",
    "plt.ylabel(\"Cause\", size=18, fontweight=\"bold\")\n",
    "plt.xlabel(\"Deaths\", size=18, fontweight=\"bold\")\n",
    "plt.yticks(size=14)\n",
    "plt.grid()\n",
    "plt.show()\n"
   ]
  },
  {
   "cell_type": "markdown",
   "id": "0e50d315",
   "metadata": {},
   "source": [
    "### Rock"
   ]
  },
  {
   "cell_type": "code",
   "execution_count": 37,
   "id": "11b5dc8d",
   "metadata": {},
   "outputs": [],
   "source": [
    "n_rock = n_cd_gr.loc[n_cd_gr['genre'] == 'rock', ]"
   ]
  },
  {
   "cell_type": "code",
   "execution_count": 38,
   "id": "613d7a88",
   "metadata": {},
   "outputs": [
    {
     "data": {
      "text/html": [
       "<div>\n",
       "<style scoped>\n",
       "    .dataframe tbody tr th:only-of-type {\n",
       "        vertical-align: middle;\n",
       "    }\n",
       "\n",
       "    .dataframe tbody tr th {\n",
       "        vertical-align: top;\n",
       "    }\n",
       "\n",
       "    .dataframe thead th {\n",
       "        text-align: right;\n",
       "    }\n",
       "</style>\n",
       "<table border=\"1\" class=\"dataframe\">\n",
       "  <thead>\n",
       "    <tr style=\"text-align: right;\">\n",
       "      <th></th>\n",
       "      <th>genre</th>\n",
       "      <th>cause</th>\n",
       "      <th>deaths</th>\n",
       "    </tr>\n",
       "  </thead>\n",
       "  <tbody>\n",
       "    <tr>\n",
       "      <th>6</th>\n",
       "      <td>rock</td>\n",
       "      <td>drugs related</td>\n",
       "      <td>35</td>\n",
       "    </tr>\n",
       "    <tr>\n",
       "      <th>7</th>\n",
       "      <td>rock</td>\n",
       "      <td>heart disease</td>\n",
       "      <td>35</td>\n",
       "    </tr>\n",
       "    <tr>\n",
       "      <th>8</th>\n",
       "      <td>rock</td>\n",
       "      <td>suicide</td>\n",
       "      <td>24</td>\n",
       "    </tr>\n",
       "    <tr>\n",
       "      <th>9</th>\n",
       "      <td>rock</td>\n",
       "      <td>car/motorcycle accident</td>\n",
       "      <td>23</td>\n",
       "    </tr>\n",
       "    <tr>\n",
       "      <th>10</th>\n",
       "      <td>rock</td>\n",
       "      <td>cancer</td>\n",
       "      <td>21</td>\n",
       "    </tr>\n",
       "    <tr>\n",
       "      <th>13</th>\n",
       "      <td>rock</td>\n",
       "      <td>alcohol related</td>\n",
       "      <td>16</td>\n",
       "    </tr>\n",
       "    <tr>\n",
       "      <th>19</th>\n",
       "      <td>rock</td>\n",
       "      <td>brain related</td>\n",
       "      <td>11</td>\n",
       "    </tr>\n",
       "    <tr>\n",
       "      <th>21</th>\n",
       "      <td>rock</td>\n",
       "      <td>aircraft accident</td>\n",
       "      <td>10</td>\n",
       "    </tr>\n",
       "    <tr>\n",
       "      <th>22</th>\n",
       "      <td>rock</td>\n",
       "      <td>respiratory disease</td>\n",
       "      <td>10</td>\n",
       "    </tr>\n",
       "    <tr>\n",
       "      <th>24</th>\n",
       "      <td>rock</td>\n",
       "      <td>drawning</td>\n",
       "      <td>9</td>\n",
       "    </tr>\n",
       "    <tr>\n",
       "      <th>29</th>\n",
       "      <td>rock</td>\n",
       "      <td>AIDS</td>\n",
       "      <td>7</td>\n",
       "    </tr>\n",
       "    <tr>\n",
       "      <th>35</th>\n",
       "      <td>rock</td>\n",
       "      <td>homicide</td>\n",
       "      <td>6</td>\n",
       "    </tr>\n",
       "    <tr>\n",
       "      <th>39</th>\n",
       "      <td>rock</td>\n",
       "      <td>unknown</td>\n",
       "      <td>5</td>\n",
       "    </tr>\n",
       "    <tr>\n",
       "      <th>69</th>\n",
       "      <td>rock</td>\n",
       "      <td>electrocution</td>\n",
       "      <td>2</td>\n",
       "    </tr>\n",
       "    <tr>\n",
       "      <th>78</th>\n",
       "      <td>rock</td>\n",
       "      <td>accident</td>\n",
       "      <td>2</td>\n",
       "    </tr>\n",
       "    <tr>\n",
       "      <th>81</th>\n",
       "      <td>rock</td>\n",
       "      <td>accidental self-inflicted gunshot</td>\n",
       "      <td>1</td>\n",
       "    </tr>\n",
       "    <tr>\n",
       "      <th>84</th>\n",
       "      <td>rock</td>\n",
       "      <td>diabetes</td>\n",
       "      <td>1</td>\n",
       "    </tr>\n",
       "    <tr>\n",
       "      <th>86</th>\n",
       "      <td>rock</td>\n",
       "      <td>kidney related</td>\n",
       "      <td>1</td>\n",
       "    </tr>\n",
       "  </tbody>\n",
       "</table>\n",
       "</div>"
      ],
      "text/plain": [
       "   genre                              cause  deaths\n",
       "6   rock                      drugs related      35\n",
       "7   rock                      heart disease      35\n",
       "8   rock                            suicide      24\n",
       "9   rock            car/motorcycle accident      23\n",
       "10  rock                             cancer      21\n",
       "13  rock                    alcohol related      16\n",
       "19  rock                      brain related      11\n",
       "21  rock                  aircraft accident      10\n",
       "22  rock                respiratory disease      10\n",
       "24  rock                           drawning       9\n",
       "29  rock                               AIDS       7\n",
       "35  rock                           homicide       6\n",
       "39  rock                            unknown       5\n",
       "69  rock                      electrocution       2\n",
       "78  rock                           accident       2\n",
       "81  rock  accidental self-inflicted gunshot       1\n",
       "84  rock                           diabetes       1\n",
       "86  rock                     kidney related       1"
      ]
     },
     "execution_count": 38,
     "metadata": {},
     "output_type": "execute_result"
    }
   ],
   "source": [
    "n_rock"
   ]
  },
  {
   "cell_type": "code",
   "execution_count": 39,
   "id": "f2c3d19a",
   "metadata": {
    "scrolled": false
   },
   "outputs": [
    {
     "data": {
      "image/png": "[encoded data removed]",
      "text/plain": [
       "<Figure size 504x504 with 1 Axes>"
      ]
     },
     "metadata": {},
     "output_type": "display_data"
    }
   ],
   "source": [
    "plt.figure(figsize=(7,7), facecolor='#0085a1')\n",
    "ax = plt.axes()\n",
    "ax.set_facecolor('gainsboro')\n",
    "ax.set_title(\"Cause of death Rock musicians\",\n",
    "            size=22,\n",
    "            fontweight=\"bold\")\n",
    "plt.barh(n_rock['cause'].iloc[::-1],\n",
    "         n_rock['deaths'].iloc[::-1],\n",
    "         color=colors)\n",
    "\n",
    "plt.ylabel(\"Cause\", size=18, fontweight=\"bold\")\n",
    "plt.xlabel(\"Deaths\", size=18, fontweight=\"bold\")\n",
    "plt.yticks(size=14)\n",
    "plt.grid()\n",
    "plt.show()\n"
   ]
  },
  {
   "cell_type": "markdown",
   "id": "cf645869",
   "metadata": {},
   "source": [
    "### Jazz"
   ]
  },
  {
   "cell_type": "code",
   "execution_count": 40,
   "id": "ac8ad121",
   "metadata": {},
   "outputs": [],
   "source": [
    "n_jazz = n_cd_gr.loc[n_cd_gr['genre'] == 'jazz', ]"
   ]
  },
  {
   "cell_type": "code",
   "execution_count": 41,
   "id": "036c5f54",
   "metadata": {},
   "outputs": [
    {
     "data": {
      "image/png": "[encoded data removed]",
      "text/plain": [
       "<Figure size 504x504 with 1 Axes>"
      ]
     },
     "metadata": {},
     "output_type": "display_data"
    }
   ],
   "source": [
    "plt.figure(figsize=(7,7), facecolor='#0085a1')\n",
    "ax = plt.axes()\n",
    "ax.set_facecolor('gainsboro')\n",
    "ax.set_title(\"Cause of death Jazz musicians\",\n",
    "            size=22,\n",
    "            fontweight=\"bold\")\n",
    "plt.barh(n_jazz['cause'].iloc[::-1],\n",
    "         n_jazz['deaths'].iloc[::-1],\n",
    "         color=colors)\n",
    "\n",
    "plt.ylabel(\"Cause\", size=18, fontweight=\"bold\")\n",
    "plt.xlabel(\"Deaths\", size=18, fontweight=\"bold\")\n",
    "plt.yticks(size=14)\n",
    "plt.grid()\n",
    "plt.show()"
   ]
  },
  {
   "cell_type": "markdown",
   "id": "d37f1bc1",
   "metadata": {},
   "source": [
    "## Most common Cause o deaths"
   ]
  },
  {
   "cell_type": "code",
   "execution_count": 42,
   "id": "0146985f",
   "metadata": {},
   "outputs": [],
   "source": [
    "n_cause_death = musician['cause'].value_counts().nlargest(10)"
   ]
  },
  {
   "cell_type": "code",
   "execution_count": 43,
   "id": "ca7d2ee9",
   "metadata": {},
   "outputs": [
    {
     "data": {
      "text/plain": [
       "heart disease              180\n",
       "cancer                     126\n",
       "homicide                    96\n",
       "unknown                     92\n",
       "drugs related               68\n",
       "car/motorcycle accident     50\n",
       "respiratory disease         47\n",
       "suicide                     40\n",
       "aircraft accident           30\n",
       "brain related               28\n",
       "Name: cause, dtype: int64"
      ]
     },
     "execution_count": 43,
     "metadata": {},
     "output_type": "execute_result"
    }
   ],
   "source": [
    "n_cause_death"
   ]
  },
  {
   "cell_type": "code",
   "execution_count": 44,
   "id": "d3bac3af",
   "metadata": {},
   "outputs": [
    {
     "data": {
      "image/png": "[encoded data removed]",
      "text/plain": [
       "<Figure size 504x504 with 1 Axes>"
      ]
     },
     "metadata": {},
     "output_type": "display_data"
    }
   ],
   "source": [
    "plt.figure(figsize=(7,7), facecolor='#0085a1')\n",
    "ax = plt.axes()\n",
    "ax.set_facecolor('gainsboro')\n",
    "ax.set_title(\"Most common causes of death\",\n",
    "            size=22,\n",
    "            fontweight=\"bold\")\n",
    "plt.barh(n_cause_death.iloc[::-1].index,\n",
    "         n_cause_death.iloc[::-1].values,\n",
    "         color=colors)\n",
    "\n",
    "plt.ylabel(\"Cause\", size=18, fontweight=\"bold\")\n",
    "plt.xlabel(\"Deaths\", size=18, fontweight=\"bold\")\n",
    "plt.yticks(size=14)\n",
    "plt.grid()\n",
    "plt.show()\n"
   ]
  },
  {
   "cell_type": "code",
   "execution_count": null,
   "id": "2356fcb2",
   "metadata": {},
   "outputs": [],
   "source": []
  }
 ],
 "metadata": {
  "kernelspec": {
   "display_name": "Python 3",
   "language": "python",
   "name": "python3"
  },
  "language_info": {
   "codemirror_mode": {
    "name": "ipython",
    "version": 3
   },
   "file_extension": ".py",
   "mimetype": "text/x-python",
   "name": "python",
   "nbconvert_exporter": "python",
   "pygments_lexer": "ipython3",
   "version": "3.8.8"
  }
 },
 "nbformat": 4,
 "nbformat_minor": 5
}
