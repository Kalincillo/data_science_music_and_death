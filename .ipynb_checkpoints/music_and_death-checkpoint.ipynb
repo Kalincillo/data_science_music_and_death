{
 "cells": [
  {
   "cell_type": "code",
   "execution_count": 1,
   "id": "ac9e906e",
   "metadata": {},
   "outputs": [],
   "source": [
    "# Install MySql packages\n",
    "# conda update -n base -c conda-forge conda --yes\n",
    "# !pip install ipython-sql\n",
    "# !pip install mysql-connector-python\n",
    "# !conda install -c conda-forge python-dotenv --yes"
   ]
  },
  {
   "cell_type": "code",
   "execution_count": 2,
   "id": "c66f8002",
   "metadata": {},
   "outputs": [],
   "source": [
    "import pandas as pd\n",
    "import numpy as np\n",
    "import matplotlib.pyplot as plt\n",
    "import seaborn as sns\n",
    "import statsmodels as sm\n",
    "import mysql.connector\n",
    "from mysql.connector import Error\n",
    "from os import environ, path\n",
    "from dotenv import load_dotenv"
   ]
  },
  {
   "cell_type": "code",
   "execution_count": 3,
   "id": "b020b5ce",
   "metadata": {},
   "outputs": [],
   "source": [
    "# Read enviromental variables to connect the database\n",
    "load_dotenv()\n",
    "password = environ.get('PASSWORD')\n",
    "host = environ.get('HOST')\n",
    "database = environ.get('DATABASE')"
   ]
  },
  {
   "cell_type": "markdown",
   "id": "dd76f153",
   "metadata": {},
   "source": [
    "## Connect to the database and create dataframes for each table"
   ]
  },
  {
   "cell_type": "code",
   "execution_count": 4,
   "id": "a82db39a",
   "metadata": {},
   "outputs": [
    {
     "name": "stdout",
     "output_type": "stream",
     "text": [
      "Succes Connected\n"
     ]
    }
   ],
   "source": [
    "try:\n",
    "    connection = mysql.connector.connect(host=host ,\n",
    "                                        database=database,\n",
    "                                        user='root',\n",
    "                                        password=password)\n",
    "    if connection.is_connected():\n",
    "        print(\"Succes Connected\")\n",
    "    df_musician = pd.read_sql_query(\"SELECT * FROM music_and_death.musician;\", connection)\n",
    "    df_birth = pd.read_sql_query(\"SELECT * FROM music_and_death.birth;\", connection)\n",
    "    df_death = pd.read_sql_query(\"SELECT * FROM music_and_death.death;\", connection)\n",
    "    df_genre = pd.read_sql_query(\"SELECT * FROM music_and_death.music_genre;\", connection)\n",
    "    genre = pd.read_sql_query(\"SELECT * FROM music_and_death.genre;\", connection)\n",
    "    cause_death = pd.read_sql_query(\"SELECT * FROM music_and_death.cause_death;\", connection)\n",
    "    cities = pd.read_sql_query(\"SELECT * FROM music_and_death.cities;\", connection)\n",
    "    states = pd.read_sql_query(\"SELECT * FROM music_and_death.states;\", connection)\n",
    "    countries = pd.read_sql_query(\"SELECT * FROM music_and_death.countries;\", connection)\n",
    "    \n",
    "    \n",
    "except Error as e:\n",
    "    print(\"Error closing connection\")\n",
    "\n",
    "# Concatenate tables\n",
    "else:\n",
    "    # Concatenate musician and death dataframes\n",
    "    df = pd.concat([df_musician, df_birth], axis=1)\n",
    "    df = pd.concat([df, df_death], axis=1)\n",
    "    df = pd.merge(df, cause_death, on=[\"death_id\", \"death_id\"])\n",
    "    df = df.loc[:, ~df.columns.duplicated()].copy()\n",
    "    df = pd.merge(df, df_genre, on=[\"musician_id\"])\n",
    "    df = df.loc[:, ~df.columns.duplicated()].copy()\n",
    "    df = pd.merge(df, genre, on=[\"genre_id\"])\n",
    "    # rearrange columns\n",
    "    df = df.iloc[:, [0, 1, 2, 3, 5, 7, 8, 9, 11, 6, 4, 10]]\n",
    "    \n",
    "finally:\n",
    "    connection.close()"
   ]
  },
  {
   "cell_type": "markdown",
   "id": "0bb539a3",
   "metadata": {},
   "source": [
    "## Merge and clean the cities, states and countries tables"
   ]
  },
  {
   "cell_type": "code",
   "execution_count": 5,
   "id": "9aab8146",
   "metadata": {},
   "outputs": [],
   "source": [
    "# merge cities table with states table\n",
    "place = cities.merge(states, \n",
    "                      left_on=cities[\"state_id\"], \n",
    "                      right_on=states[\"id\"])\n",
    "\n",
    "# drop duplicate keys\n",
    "place.drop(['key_0', 'state_id', 'id_y'], axis=1, inplace=True)\n",
    "\n",
    "# merge resulted table with countries table\n",
    "place = place.merge(countries, \n",
    "                        left_on=place[\"country_id\"],\n",
    "                        right_on=countries[\"id\"])\n",
    "\n",
    "# drop duplicated keys\n",
    "place.drop(['key_0', 'country_id', 'id', 'iso2', 'capital'], \n",
    "              axis=1, \n",
    "              inplace=True)\n",
    "\n",
    "# rename column names\n",
    "place.rename(\n",
    "    columns={'name_x': 'City', \n",
    "             'name_y': 'State', \n",
    "             'name': 'Country', \n",
    "             'id_x': 'city_id'},\n",
    "    inplace=True\n",
    ")"
   ]
  },
  {
   "cell_type": "markdown",
   "id": "1e12bf87",
   "metadata": {},
   "source": [
    "##  Drop columns with not use"
   ]
  },
  {
   "cell_type": "code",
   "execution_count": 6,
   "id": "c40793a1",
   "metadata": {},
   "outputs": [],
   "source": [
    "df.drop(['middle_name', 'death_id', \"death_date\", \"genre_id\", \"birth\"], \n",
    "        axis=1, \n",
    "        inplace=True)"
   ]
  },
  {
   "cell_type": "code",
   "execution_count": 7,
   "id": "66f967c0",
   "metadata": {},
   "outputs": [
    {
     "data": {
      "text/html": [
       "<div>\n",
       "<style scoped>\n",
       "    .dataframe tbody tr th:only-of-type {\n",
       "        vertical-align: middle;\n",
       "    }\n",
       "\n",
       "    .dataframe tbody tr th {\n",
       "        vertical-align: top;\n",
       "    }\n",
       "\n",
       "    .dataframe thead th {\n",
       "        text-align: right;\n",
       "    }\n",
       "</style>\n",
       "<table border=\"1\" class=\"dataframe\">\n",
       "  <thead>\n",
       "    <tr style=\"text-align: right;\">\n",
       "      <th></th>\n",
       "      <th>musician_id</th>\n",
       "      <th>stage_name</th>\n",
       "      <th>stage_lastname</th>\n",
       "      <th>death_age</th>\n",
       "      <th>cause</th>\n",
       "      <th>genre</th>\n",
       "      <th>birthplace_id</th>\n",
       "    </tr>\n",
       "  </thead>\n",
       "  <tbody>\n",
       "    <tr>\n",
       "      <th>0</th>\n",
       "      <td>1</td>\n",
       "      <td>John</td>\n",
       "      <td>Lennon</td>\n",
       "      <td>40</td>\n",
       "      <td>homicide</td>\n",
       "      <td>rock</td>\n",
       "      <td>50337</td>\n",
       "    </tr>\n",
       "    <tr>\n",
       "      <th>1</th>\n",
       "      <td>2</td>\n",
       "      <td>Kurt</td>\n",
       "      <td>Cobain</td>\n",
       "      <td>27</td>\n",
       "      <td>suicide</td>\n",
       "      <td>rock</td>\n",
       "      <td>110979</td>\n",
       "    </tr>\n",
       "    <tr>\n",
       "      <th>2</th>\n",
       "      <td>17</td>\n",
       "      <td>Chris</td>\n",
       "      <td>Cornell</td>\n",
       "      <td>52</td>\n",
       "      <td>suicide</td>\n",
       "      <td>rock</td>\n",
       "      <td>126104</td>\n",
       "    </tr>\n",
       "    <tr>\n",
       "      <th>3</th>\n",
       "      <td>18</td>\n",
       "      <td>Chester</td>\n",
       "      <td>Bennington</td>\n",
       "      <td>41</td>\n",
       "      <td>suicide</td>\n",
       "      <td>rock</td>\n",
       "      <td>124148</td>\n",
       "    </tr>\n",
       "    <tr>\n",
       "      <th>4</th>\n",
       "      <td>32</td>\n",
       "      <td>Ian</td>\n",
       "      <td>Curtis</td>\n",
       "      <td>23</td>\n",
       "      <td>suicide</td>\n",
       "      <td>rock</td>\n",
       "      <td>51499</td>\n",
       "    </tr>\n",
       "    <tr>\n",
       "      <th>...</th>\n",
       "      <td>...</td>\n",
       "      <td>...</td>\n",
       "      <td>...</td>\n",
       "      <td>...</td>\n",
       "      <td>...</td>\n",
       "      <td>...</td>\n",
       "      <td>...</td>\n",
       "    </tr>\n",
       "    <tr>\n",
       "      <th>232</th>\n",
       "      <td>37</td>\n",
       "      <td>Johnny</td>\n",
       "      <td>Cash</td>\n",
       "      <td>71</td>\n",
       "      <td>diabetes</td>\n",
       "      <td>country</td>\n",
       "      <td>114248</td>\n",
       "    </tr>\n",
       "    <tr>\n",
       "      <th>233</th>\n",
       "      <td>148</td>\n",
       "      <td>A.</td>\n",
       "      <td>Carter</td>\n",
       "      <td>68</td>\n",
       "      <td>unknown</td>\n",
       "      <td>country</td>\n",
       "      <td>126050</td>\n",
       "    </tr>\n",
       "    <tr>\n",
       "      <th>234</th>\n",
       "      <td>175</td>\n",
       "      <td>Richard</td>\n",
       "      <td>Fariña</td>\n",
       "      <td>29</td>\n",
       "      <td>car accident</td>\n",
       "      <td>folk</td>\n",
       "      <td>122795</td>\n",
       "    </tr>\n",
       "    <tr>\n",
       "      <th>235</th>\n",
       "      <td>190</td>\n",
       "      <td>Woody</td>\n",
       "      <td>Guthrie</td>\n",
       "      <td>55</td>\n",
       "      <td>brain disorder</td>\n",
       "      <td>folk</td>\n",
       "      <td>123401</td>\n",
       "    </tr>\n",
       "    <tr>\n",
       "      <th>236</th>\n",
       "      <td>185</td>\n",
       "      <td>Nelson</td>\n",
       "      <td>Eddy</td>\n",
       "      <td>65</td>\n",
       "      <td>brain disorder</td>\n",
       "      <td>classical</td>\n",
       "      <td>124716</td>\n",
       "    </tr>\n",
       "  </tbody>\n",
       "</table>\n",
       "<p>237 rows × 7 columns</p>\n",
       "</div>"
      ],
      "text/plain": [
       "     musician_id stage_name stage_lastname  death_age           cause  \\\n",
       "0              1       John         Lennon         40        homicide   \n",
       "1              2       Kurt         Cobain         27         suicide   \n",
       "2             17      Chris        Cornell         52         suicide   \n",
       "3             18   Chester      Bennington         41         suicide   \n",
       "4             32        Ian         Curtis         23         suicide   \n",
       "..           ...        ...            ...        ...             ...   \n",
       "232           37     Johnny           Cash         71        diabetes   \n",
       "233          148         A.         Carter         68         unknown   \n",
       "234          175    Richard         Fariña         29    car accident   \n",
       "235          190      Woody        Guthrie         55  brain disorder   \n",
       "236          185     Nelson           Eddy         65  brain disorder   \n",
       "\n",
       "         genre  birthplace_id  \n",
       "0         rock          50337  \n",
       "1         rock         110979  \n",
       "2         rock         126104  \n",
       "3         rock         124148  \n",
       "4         rock          51499  \n",
       "..         ...            ...  \n",
       "232    country         114248  \n",
       "233    country         126050  \n",
       "234       folk         122795  \n",
       "235       folk         123401  \n",
       "236  classical         124716  \n",
       "\n",
       "[237 rows x 7 columns]"
      ]
     },
     "execution_count": 7,
     "metadata": {},
     "output_type": "execute_result"
    }
   ],
   "source": [
    "df"
   ]
  },
  {
   "cell_type": "code",
   "execution_count": 8,
   "id": "12694b51",
   "metadata": {},
   "outputs": [
    {
     "data": {
      "text/html": [
       "<div>\n",
       "<style scoped>\n",
       "    .dataframe tbody tr th:only-of-type {\n",
       "        vertical-align: middle;\n",
       "    }\n",
       "\n",
       "    .dataframe tbody tr th {\n",
       "        vertical-align: top;\n",
       "    }\n",
       "\n",
       "    .dataframe thead th {\n",
       "        text-align: right;\n",
       "    }\n",
       "</style>\n",
       "<table border=\"1\" class=\"dataframe\">\n",
       "  <thead>\n",
       "    <tr style=\"text-align: right;\">\n",
       "      <th></th>\n",
       "      <th>city_id</th>\n",
       "      <th>City</th>\n",
       "      <th>State</th>\n",
       "      <th>Country</th>\n",
       "    </tr>\n",
       "  </thead>\n",
       "  <tbody>\n",
       "    <tr>\n",
       "      <th>0</th>\n",
       "      <td>52</td>\n",
       "      <td>Ashkāsham</td>\n",
       "      <td>Badakhshan</td>\n",
       "      <td>Afghanistan</td>\n",
       "    </tr>\n",
       "    <tr>\n",
       "      <th>1</th>\n",
       "      <td>68</td>\n",
       "      <td>Fayzabad</td>\n",
       "      <td>Badakhshan</td>\n",
       "      <td>Afghanistan</td>\n",
       "    </tr>\n",
       "    <tr>\n",
       "      <th>2</th>\n",
       "      <td>78</td>\n",
       "      <td>Jurm</td>\n",
       "      <td>Badakhshan</td>\n",
       "      <td>Afghanistan</td>\n",
       "    </tr>\n",
       "    <tr>\n",
       "      <th>3</th>\n",
       "      <td>84</td>\n",
       "      <td>Khandūd</td>\n",
       "      <td>Badakhshan</td>\n",
       "      <td>Afghanistan</td>\n",
       "    </tr>\n",
       "    <tr>\n",
       "      <th>4</th>\n",
       "      <td>115</td>\n",
       "      <td>Rāghistān</td>\n",
       "      <td>Badakhshan</td>\n",
       "      <td>Afghanistan</td>\n",
       "    </tr>\n",
       "    <tr>\n",
       "      <th>...</th>\n",
       "      <td>...</td>\n",
       "      <td>...</td>\n",
       "      <td>...</td>\n",
       "      <td>...</td>\n",
       "    </tr>\n",
       "    <tr>\n",
       "      <th>148261</th>\n",
       "      <td>131496</td>\n",
       "      <td>Redcliff</td>\n",
       "      <td>Midlands Province</td>\n",
       "      <td>Zimbabwe</td>\n",
       "    </tr>\n",
       "    <tr>\n",
       "      <th>148262</th>\n",
       "      <td>131502</td>\n",
       "      <td>Shangani</td>\n",
       "      <td>Midlands Province</td>\n",
       "      <td>Zimbabwe</td>\n",
       "    </tr>\n",
       "    <tr>\n",
       "      <th>148263</th>\n",
       "      <td>131503</td>\n",
       "      <td>Shurugwi</td>\n",
       "      <td>Midlands Province</td>\n",
       "      <td>Zimbabwe</td>\n",
       "    </tr>\n",
       "    <tr>\n",
       "      <th>148264</th>\n",
       "      <td>131504</td>\n",
       "      <td>Shurugwi District</td>\n",
       "      <td>Midlands Province</td>\n",
       "      <td>Zimbabwe</td>\n",
       "    </tr>\n",
       "    <tr>\n",
       "      <th>148265</th>\n",
       "      <td>131508</td>\n",
       "      <td>Zvishavane District</td>\n",
       "      <td>Midlands Province</td>\n",
       "      <td>Zimbabwe</td>\n",
       "    </tr>\n",
       "  </tbody>\n",
       "</table>\n",
       "<p>148266 rows × 4 columns</p>\n",
       "</div>"
      ],
      "text/plain": [
       "        city_id                 City              State      Country\n",
       "0            52            Ashkāsham         Badakhshan  Afghanistan\n",
       "1            68             Fayzabad         Badakhshan  Afghanistan\n",
       "2            78                 Jurm         Badakhshan  Afghanistan\n",
       "3            84              Khandūd         Badakhshan  Afghanistan\n",
       "4           115            Rāghistān         Badakhshan  Afghanistan\n",
       "...         ...                  ...                ...          ...\n",
       "148261   131496             Redcliff  Midlands Province     Zimbabwe\n",
       "148262   131502             Shangani  Midlands Province     Zimbabwe\n",
       "148263   131503             Shurugwi  Midlands Province     Zimbabwe\n",
       "148264   131504    Shurugwi District  Midlands Province     Zimbabwe\n",
       "148265   131508  Zvishavane District  Midlands Province     Zimbabwe\n",
       "\n",
       "[148266 rows x 4 columns]"
      ]
     },
     "execution_count": 8,
     "metadata": {},
     "output_type": "execute_result"
    }
   ],
   "source": [
    "place"
   ]
  },
  {
   "cell_type": "markdown",
   "id": "285f50f2",
   "metadata": {},
   "source": [
    "## Merge musician info dataframe with place dataframe"
   ]
  },
  {
   "cell_type": "code",
   "execution_count": 9,
   "id": "e5f4b129",
   "metadata": {},
   "outputs": [],
   "source": [
    "# merge df and place dataframes\n",
    "musician = df.merge(place, \n",
    "                    left_on=df['birthplace_id'], \n",
    "                    right_on=place['city_id'])\n",
    "\n",
    "# drop unused columns\n",
    "musician.drop(['birthplace_id', 'city_id', 'key_0'], axis=1, inplace=True)"
   ]
  },
  {
   "cell_type": "code",
   "execution_count": 10,
   "id": "dab04141",
   "metadata": {},
   "outputs": [
    {
     "data": {
      "text/html": [
       "<div>\n",
       "<style scoped>\n",
       "    .dataframe tbody tr th:only-of-type {\n",
       "        vertical-align: middle;\n",
       "    }\n",
       "\n",
       "    .dataframe tbody tr th {\n",
       "        vertical-align: top;\n",
       "    }\n",
       "\n",
       "    .dataframe thead th {\n",
       "        text-align: right;\n",
       "    }\n",
       "</style>\n",
       "<table border=\"1\" class=\"dataframe\">\n",
       "  <thead>\n",
       "    <tr style=\"text-align: right;\">\n",
       "      <th></th>\n",
       "      <th>musician_id</th>\n",
       "      <th>stage_name</th>\n",
       "      <th>stage_lastname</th>\n",
       "      <th>death_age</th>\n",
       "      <th>cause</th>\n",
       "      <th>genre</th>\n",
       "      <th>City</th>\n",
       "      <th>State</th>\n",
       "      <th>Country</th>\n",
       "    </tr>\n",
       "  </thead>\n",
       "  <tbody>\n",
       "    <tr>\n",
       "      <th>0</th>\n",
       "      <td>1</td>\n",
       "      <td>John</td>\n",
       "      <td>Lennon</td>\n",
       "      <td>40</td>\n",
       "      <td>homicide</td>\n",
       "      <td>rock</td>\n",
       "      <td>Liverpool</td>\n",
       "      <td>England</td>\n",
       "      <td>United Kingdom</td>\n",
       "    </tr>\n",
       "    <tr>\n",
       "      <th>1</th>\n",
       "      <td>188</td>\n",
       "      <td>Brian</td>\n",
       "      <td>Epstein</td>\n",
       "      <td>32</td>\n",
       "      <td>drug overdose</td>\n",
       "      <td>rock</td>\n",
       "      <td>Liverpool</td>\n",
       "      <td>England</td>\n",
       "      <td>United Kingdom</td>\n",
       "    </tr>\n",
       "    <tr>\n",
       "      <th>2</th>\n",
       "      <td>2</td>\n",
       "      <td>Kurt</td>\n",
       "      <td>Cobain</td>\n",
       "      <td>27</td>\n",
       "      <td>suicide</td>\n",
       "      <td>rock</td>\n",
       "      <td>Aberdeen</td>\n",
       "      <td>Washington</td>\n",
       "      <td>United States</td>\n",
       "    </tr>\n",
       "    <tr>\n",
       "      <th>3</th>\n",
       "      <td>17</td>\n",
       "      <td>Chris</td>\n",
       "      <td>Cornell</td>\n",
       "      <td>52</td>\n",
       "      <td>suicide</td>\n",
       "      <td>rock</td>\n",
       "      <td>Seattle</td>\n",
       "      <td>Washington</td>\n",
       "      <td>United States</td>\n",
       "    </tr>\n",
       "    <tr>\n",
       "      <th>4</th>\n",
       "      <td>8</td>\n",
       "      <td>Jimi</td>\n",
       "      <td>Hendrix</td>\n",
       "      <td>27</td>\n",
       "      <td>alcohol overdose</td>\n",
       "      <td>rock</td>\n",
       "      <td>Seattle</td>\n",
       "      <td>Washington</td>\n",
       "      <td>United States</td>\n",
       "    </tr>\n",
       "    <tr>\n",
       "      <th>...</th>\n",
       "      <td>...</td>\n",
       "      <td>...</td>\n",
       "      <td>...</td>\n",
       "      <td>...</td>\n",
       "      <td>...</td>\n",
       "      <td>...</td>\n",
       "      <td>...</td>\n",
       "      <td>...</td>\n",
       "      <td>...</td>\n",
       "    </tr>\n",
       "    <tr>\n",
       "      <th>231</th>\n",
       "      <td>207</td>\n",
       "      <td>Red</td>\n",
       "      <td>Foley</td>\n",
       "      <td>58</td>\n",
       "      <td>heart disease</td>\n",
       "      <td>country</td>\n",
       "      <td>Lincoln County</td>\n",
       "      <td>Kentucky</td>\n",
       "      <td>United States</td>\n",
       "    </tr>\n",
       "    <tr>\n",
       "      <th>232</th>\n",
       "      <td>37</td>\n",
       "      <td>Johnny</td>\n",
       "      <td>Cash</td>\n",
       "      <td>71</td>\n",
       "      <td>diabetes</td>\n",
       "      <td>country</td>\n",
       "      <td>Cleveland County</td>\n",
       "      <td>Arkansas</td>\n",
       "      <td>United States</td>\n",
       "    </tr>\n",
       "    <tr>\n",
       "      <th>233</th>\n",
       "      <td>148</td>\n",
       "      <td>A.</td>\n",
       "      <td>Carter</td>\n",
       "      <td>68</td>\n",
       "      <td>unknown</td>\n",
       "      <td>country</td>\n",
       "      <td>Scott County</td>\n",
       "      <td>Virginia</td>\n",
       "      <td>United States</td>\n",
       "    </tr>\n",
       "    <tr>\n",
       "      <th>234</th>\n",
       "      <td>190</td>\n",
       "      <td>Woody</td>\n",
       "      <td>Guthrie</td>\n",
       "      <td>55</td>\n",
       "      <td>brain disorder</td>\n",
       "      <td>folk</td>\n",
       "      <td>Okemah</td>\n",
       "      <td>Oklahoma</td>\n",
       "      <td>United States</td>\n",
       "    </tr>\n",
       "    <tr>\n",
       "      <th>235</th>\n",
       "      <td>185</td>\n",
       "      <td>Nelson</td>\n",
       "      <td>Eddy</td>\n",
       "      <td>65</td>\n",
       "      <td>brain disorder</td>\n",
       "      <td>classical</td>\n",
       "      <td>Providence</td>\n",
       "      <td>Rhode Island</td>\n",
       "      <td>United States</td>\n",
       "    </tr>\n",
       "  </tbody>\n",
       "</table>\n",
       "<p>236 rows × 9 columns</p>\n",
       "</div>"
      ],
      "text/plain": [
       "     musician_id stage_name stage_lastname  death_age             cause  \\\n",
       "0              1       John         Lennon         40          homicide   \n",
       "1            188      Brian        Epstein         32     drug overdose   \n",
       "2              2       Kurt         Cobain         27           suicide   \n",
       "3             17      Chris        Cornell         52           suicide   \n",
       "4              8       Jimi        Hendrix         27  alcohol overdose   \n",
       "..           ...        ...            ...        ...               ...   \n",
       "231          207        Red          Foley         58     heart disease   \n",
       "232           37     Johnny           Cash         71          diabetes   \n",
       "233          148         A.         Carter         68           unknown   \n",
       "234          190      Woody        Guthrie         55    brain disorder   \n",
       "235          185     Nelson           Eddy         65    brain disorder   \n",
       "\n",
       "         genre              City         State         Country  \n",
       "0         rock         Liverpool       England  United Kingdom  \n",
       "1         rock         Liverpool       England  United Kingdom  \n",
       "2         rock          Aberdeen    Washington   United States  \n",
       "3         rock           Seattle    Washington   United States  \n",
       "4         rock           Seattle    Washington   United States  \n",
       "..         ...               ...           ...             ...  \n",
       "231    country    Lincoln County      Kentucky   United States  \n",
       "232    country  Cleveland County      Arkansas   United States  \n",
       "233    country      Scott County      Virginia   United States  \n",
       "234       folk            Okemah      Oklahoma   United States  \n",
       "235  classical        Providence  Rhode Island   United States  \n",
       "\n",
       "[236 rows x 9 columns]"
      ]
     },
     "execution_count": 10,
     "metadata": {},
     "output_type": "execute_result"
    }
   ],
   "source": [
    "musician"
   ]
  },
  {
   "cell_type": "markdown",
   "id": "8aab8fb1",
   "metadata": {},
   "source": [
    "## Create plots to observe the data"
   ]
  },
  {
   "cell_type": "code",
   "execution_count": 34,
   "id": "3517b178",
   "metadata": {},
   "outputs": [
    {
     "data": {
      "image/png": "[encoded data removed]",
      "text/plain": [
       "<Figure size 648x360 with 1 Axes>"
      ]
     },
     "metadata": {
      "needs_background": "light"
     },
     "output_type": "display_data"
    }
   ],
   "source": [
    "# Bar plot to show deaths per music genre \n",
    "\n",
    "# Create a new music table using genre as indez and size of each genre\n",
    "df_n = musician.pivot_table(index=['genre'], aggfunc='size')\n",
    "\n",
    "# plot the data\n",
    "plt.figure(figsize=(9,5))\n",
    "plt.bar(df_n.index, df_n, color=\n",
    "        ['red', 'orange', 'green',\n",
    "         'cyan', 'purple', 'black',\n",
    "         'yellow', 'brown', 'grey', 'pink'])\n",
    "plt.ylabel(\"Deaths\")\n",
    "plt.xlabel(\"Genre\")\n",
    "plt.xticks(rotation='vertical')\n",
    "plt.show()"
   ]
  },
  {
   "cell_type": "markdown",
   "id": "2c100d58",
   "metadata": {},
   "source": [
    "## Cause of death per music genre"
   ]
  },
  {
   "cell_type": "code",
   "execution_count": 12,
   "id": "6b00ead4",
   "metadata": {
    "scrolled": false
   },
   "outputs": [
    {
     "data": {
      "text/plain": [
       "cause                              genre  \n",
       "AIDS                               pop        1\n",
       "                                   rock       1\n",
       "Falling                            rock       1\n",
       "accidental self-inflicted gunshot  blues      1\n",
       "aircraft accident                  blues      3\n",
       "                                             ..\n",
       "tuberculosis                       blues      1\n",
       "                                   jazz       1\n",
       "unknown                            blues      6\n",
       "                                   country    1\n",
       "                                   jazz       6\n",
       "Length: 67, dtype: int64"
      ]
     },
     "execution_count": 12,
     "metadata": {},
     "output_type": "execute_result"
    }
   ],
   "source": [
    "df_cd = musician.pivot_table(index=['cause', 'genre'], aggfunc='size')\n",
    "df_cd"
   ]
  },
  {
   "cell_type": "markdown",
   "id": "638cba84",
   "metadata": {},
   "source": [
    "# Questions"
   ]
  },
  {
   "cell_type": "markdown",
   "id": "51377a49",
   "metadata": {},
   "source": [
    "## Most common Death Ages\n"
   ]
  },
  {
   "cell_type": "code",
   "execution_count": 13,
   "id": "ad3d62e6",
   "metadata": {},
   "outputs": [],
   "source": [
    "n_da = musician['death_age'].value_counts().nlargest(20)"
   ]
  },
  {
   "cell_type": "code",
   "execution_count": 14,
   "id": "2cf719b2",
   "metadata": {},
   "outputs": [
    {
     "data": {
      "text/plain": [
       "27    14\n",
       "32    11\n",
       "28    10\n",
       "37     9\n",
       "25     8\n",
       "30     8\n",
       "34     8\n",
       "21     8\n",
       "40     7\n",
       "33     7\n",
       "45     6\n",
       "53     6\n",
       "24     5\n",
       "46     5\n",
       "26     5\n",
       "20     5\n",
       "36     5\n",
       "38     5\n",
       "55     4\n",
       "44     4\n",
       "Name: death_age, dtype: int64"
      ]
     },
     "execution_count": 14,
     "metadata": {},
     "output_type": "execute_result"
    }
   ],
   "source": [
    "n_da"
   ]
  },
  {
   "cell_type": "code",
   "execution_count": 15,
   "id": "bcb91fc0",
   "metadata": {},
   "outputs": [
    {
     "data": {
      "image/png": "[encoded data removed]",
      "text/plain": [
       "<Figure size 432x288 with 1 Axes>"
      ]
     },
     "metadata": {},
     "output_type": "display_data"
    }
   ],
   "source": [
    "\n",
    "plt.pie(n_da.values, labels=n_da.index, startangle=90, shadow=True)\n",
    "plt.title(\"Most common death ages\")\n",
    "# plt.legend(title='Death age', loc=(1, 0.25))\n",
    "plt.show()"
   ]
  },
  {
   "cell_type": "code",
   "execution_count": 16,
   "id": "960996f1",
   "metadata": {},
   "outputs": [
    {
     "data": {
      "text/plain": [
       "array([14, 11, 10,  9,  8,  8,  8,  8,  7,  7,  6,  6,  5,  5,  5,  5,  5,\n",
       "        5,  4,  4], dtype=int64)"
      ]
     },
     "execution_count": 16,
     "metadata": {},
     "output_type": "execute_result"
    }
   ],
   "source": [
    "n_da.values"
   ]
  },
  {
   "cell_type": "code",
   "execution_count": null,
   "id": "16f7491e",
   "metadata": {},
   "outputs": [],
   "source": []
  },
  {
   "cell_type": "markdown",
   "id": "0ac38868",
   "metadata": {},
   "source": [
    "## Most common Music Genre"
   ]
  },
  {
   "cell_type": "code",
   "execution_count": 17,
   "id": "bc3ec91d",
   "metadata": {},
   "outputs": [],
   "source": [
    "n_mg = musician['genre'].value_counts()"
   ]
  },
  {
   "cell_type": "code",
   "execution_count": 18,
   "id": "851575bf",
   "metadata": {},
   "outputs": [
    {
     "data": {
      "text/plain": [
       "blues        64\n",
       "hip-hop      59\n",
       "rock         50\n",
       "jazz         30\n",
       "country      13\n",
       "pop           8\n",
       "metal         8\n",
       "folk          2\n",
       "ska           1\n",
       "classical     1\n",
       "Name: genre, dtype: int64"
      ]
     },
     "execution_count": 18,
     "metadata": {},
     "output_type": "execute_result"
    }
   ],
   "source": [
    "n_mg"
   ]
  },
  {
   "cell_type": "code",
   "execution_count": 19,
   "id": "68ae17b8",
   "metadata": {},
   "outputs": [
    {
     "data": {
      "text/plain": [
       "<BarContainer object of 10 artists>"
      ]
     },
     "execution_count": 19,
     "metadata": {},
     "output_type": "execute_result"
    },
    {
     "data": {
      "image/png": "[encoded data removed]",
      "text/plain": [
       "<Figure size 432x288 with 1 Axes>"
      ]
     },
     "metadata": {
      "needs_background": "light"
     },
     "output_type": "display_data"
    }
   ],
   "source": [
    "plt.bar(n_mg.index, n_mg.values)"
   ]
  },
  {
   "cell_type": "markdown",
   "id": "540d015a",
   "metadata": {},
   "source": [
    "# Places"
   ]
  },
  {
   "cell_type": "markdown",
   "id": "3bd72ef1",
   "metadata": {},
   "source": [
    "### Most common Countries"
   ]
  },
  {
   "cell_type": "code",
   "execution_count": 20,
   "id": "7ae90493",
   "metadata": {},
   "outputs": [],
   "source": [
    "n_places = musician['Country'].value_counts()"
   ]
  },
  {
   "cell_type": "code",
   "execution_count": 21,
   "id": "10f8e65d",
   "metadata": {},
   "outputs": [
    {
     "data": {
      "text/plain": [
       "United States     193\n",
       "United Kingdom     22\n",
       "Lithuania           2\n",
       "Germany             2\n",
       "Australia           2\n",
       "Canada              1\n",
       "Turkey              1\n",
       "Brazil              1\n",
       "South Africa        1\n",
       "Netherlands         1\n",
       "India               1\n",
       "Jamaica             1\n",
       "Sweden              1\n",
       "Greece              1\n",
       "Haiti               1\n",
       "New Zealand         1\n",
       "Tanzania            1\n",
       "Norway              1\n",
       "Belarus             1\n",
       "Mexico              1\n",
       "Name: Country, dtype: int64"
      ]
     },
     "execution_count": 21,
     "metadata": {},
     "output_type": "execute_result"
    }
   ],
   "source": [
    "n_places"
   ]
  },
  {
   "cell_type": "markdown",
   "id": "8e89fabb",
   "metadata": {},
   "source": [
    "### Most common States"
   ]
  },
  {
   "cell_type": "code",
   "execution_count": 22,
   "id": "7f2bcde5",
   "metadata": {},
   "outputs": [],
   "source": [
    "n_states = musician['State'].value_counts().nlargest(20)"
   ]
  },
  {
   "cell_type": "code",
   "execution_count": 23,
   "id": "5ec7343e",
   "metadata": {},
   "outputs": [
    {
     "data": {
      "text/plain": [
       "New York        25\n",
       "Mississippi     22\n",
       "England         18\n",
       "California      18\n",
       "Texas           16\n",
       "Louisiana       13\n",
       "Alabama         11\n",
       "Georgia         10\n",
       "Pennsylvania     8\n",
       "Tennessee        8\n",
       "Arkansas         5\n",
       "Illinois         5\n",
       "Washington       5\n",
       "Missouri         5\n",
       "Scotland         4\n",
       "Florida          4\n",
       "Virginia         4\n",
       "Ohio             4\n",
       "Indiana          3\n",
       "Minnesota        3\n",
       "Name: State, dtype: int64"
      ]
     },
     "execution_count": 23,
     "metadata": {},
     "output_type": "execute_result"
    }
   ],
   "source": [
    "n_states"
   ]
  },
  {
   "cell_type": "markdown",
   "id": "cdbb2ec1",
   "metadata": {},
   "source": [
    "### Most common Cities"
   ]
  },
  {
   "cell_type": "code",
   "execution_count": 24,
   "id": "61c5e88c",
   "metadata": {},
   "outputs": [],
   "source": [
    "n_cities = musician['City'].value_counts().nlargest(20)"
   ]
  },
  {
   "cell_type": "code",
   "execution_count": 25,
   "id": "562466c4",
   "metadata": {},
   "outputs": [
    {
     "data": {
      "text/plain": [
       "New York City         15\n",
       "Los Angeles            8\n",
       "New Orleans            7\n",
       "Philadelphia           6\n",
       "Memphis                5\n",
       "London                 5\n",
       "Queens                 4\n",
       "Chicago                4\n",
       "Birmingham             4\n",
       "Dallas                 3\n",
       "Atlanta                3\n",
       "Baton Rouge            2\n",
       "Oakland                2\n",
       "Saint Louis County     2\n",
       "Louisiana              2\n",
       "Como                   2\n",
       "Seattle                2\n",
       "Houston                2\n",
       "Montgomery             2\n",
       "Liverpool              2\n",
       "Name: City, dtype: int64"
      ]
     },
     "execution_count": 25,
     "metadata": {},
     "output_type": "execute_result"
    }
   ],
   "source": [
    "n_cities"
   ]
  },
  {
   "cell_type": "markdown",
   "id": "e0922580",
   "metadata": {},
   "source": []
  },
  {
   "cell_type": "markdown",
   "id": "0306fad8",
   "metadata": {},
   "source": [
    "## Death genre - cause"
   ]
  },
  {
   "cell_type": "code",
   "execution_count": 83,
   "id": "2998eca5",
   "metadata": {},
   "outputs": [],
   "source": [
    "n_cd_gr = musician.loc[:, ['genre', 'cause']].value_counts()"
   ]
  },
  {
   "cell_type": "code",
   "execution_count": 84,
   "id": "5695506b",
   "metadata": {},
   "outputs": [
    {
     "data": {
      "text/plain": [
       "genre    cause        \n",
       "hip-hop  homicide         58\n",
       "blues    heart disease    15\n",
       "         cancer           10\n",
       "rock     drug overdose     9\n",
       "         suicide           8\n",
       "                          ..\n",
       "jazz     diabetes          1\n",
       "         homicide          1\n",
       "         suicide           1\n",
       "         tuberculosis      1\n",
       "ska      suicide           1\n",
       "Length: 67, dtype: int64"
      ]
     },
     "execution_count": 84,
     "metadata": {},
     "output_type": "execute_result"
    }
   ],
   "source": [
    "n_cd_gr"
   ]
  },
  {
   "cell_type": "code",
   "execution_count": 85,
   "id": "488fdbb2",
   "metadata": {},
   "outputs": [],
   "source": [
    "n_cd_gr = n_cd_gr.reset_index()\n",
    "n_cd_gr.rename(columns={0: 'deaths'}, inplace=True)"
   ]
  },
  {
   "cell_type": "code",
   "execution_count": 86,
   "id": "c5ba0cbd",
   "metadata": {},
   "outputs": [
    {
     "data": {
      "text/html": [
       "<div>\n",
       "<style scoped>\n",
       "    .dataframe tbody tr th:only-of-type {\n",
       "        vertical-align: middle;\n",
       "    }\n",
       "\n",
       "    .dataframe tbody tr th {\n",
       "        vertical-align: top;\n",
       "    }\n",
       "\n",
       "    .dataframe thead th {\n",
       "        text-align: right;\n",
       "    }\n",
       "</style>\n",
       "<table border=\"1\" class=\"dataframe\">\n",
       "  <thead>\n",
       "    <tr style=\"text-align: right;\">\n",
       "      <th></th>\n",
       "      <th>genre</th>\n",
       "      <th>cause</th>\n",
       "      <th>deaths</th>\n",
       "    </tr>\n",
       "  </thead>\n",
       "  <tbody>\n",
       "    <tr>\n",
       "      <th>0</th>\n",
       "      <td>hip-hop</td>\n",
       "      <td>homicide</td>\n",
       "      <td>58</td>\n",
       "    </tr>\n",
       "    <tr>\n",
       "      <th>1</th>\n",
       "      <td>blues</td>\n",
       "      <td>heart disease</td>\n",
       "      <td>15</td>\n",
       "    </tr>\n",
       "    <tr>\n",
       "      <th>2</th>\n",
       "      <td>blues</td>\n",
       "      <td>cancer</td>\n",
       "      <td>10</td>\n",
       "    </tr>\n",
       "    <tr>\n",
       "      <th>3</th>\n",
       "      <td>rock</td>\n",
       "      <td>drug overdose</td>\n",
       "      <td>9</td>\n",
       "    </tr>\n",
       "    <tr>\n",
       "      <th>4</th>\n",
       "      <td>rock</td>\n",
       "      <td>suicide</td>\n",
       "      <td>8</td>\n",
       "    </tr>\n",
       "    <tr>\n",
       "      <th>...</th>\n",
       "      <td>...</td>\n",
       "      <td>...</td>\n",
       "      <td>...</td>\n",
       "    </tr>\n",
       "    <tr>\n",
       "      <th>62</th>\n",
       "      <td>jazz</td>\n",
       "      <td>diabetes</td>\n",
       "      <td>1</td>\n",
       "    </tr>\n",
       "    <tr>\n",
       "      <th>63</th>\n",
       "      <td>jazz</td>\n",
       "      <td>homicide</td>\n",
       "      <td>1</td>\n",
       "    </tr>\n",
       "    <tr>\n",
       "      <th>64</th>\n",
       "      <td>jazz</td>\n",
       "      <td>suicide</td>\n",
       "      <td>1</td>\n",
       "    </tr>\n",
       "    <tr>\n",
       "      <th>65</th>\n",
       "      <td>jazz</td>\n",
       "      <td>tuberculosis</td>\n",
       "      <td>1</td>\n",
       "    </tr>\n",
       "    <tr>\n",
       "      <th>66</th>\n",
       "      <td>ska</td>\n",
       "      <td>suicide</td>\n",
       "      <td>1</td>\n",
       "    </tr>\n",
       "  </tbody>\n",
       "</table>\n",
       "<p>67 rows × 3 columns</p>\n",
       "</div>"
      ],
      "text/plain": [
       "      genre          cause  deaths\n",
       "0   hip-hop       homicide      58\n",
       "1     blues  heart disease      15\n",
       "2     blues         cancer      10\n",
       "3      rock  drug overdose       9\n",
       "4      rock        suicide       8\n",
       "..      ...            ...     ...\n",
       "62     jazz       diabetes       1\n",
       "63     jazz       homicide       1\n",
       "64     jazz        suicide       1\n",
       "65     jazz   tuberculosis       1\n",
       "66      ska        suicide       1\n",
       "\n",
       "[67 rows x 3 columns]"
      ]
     },
     "execution_count": 86,
     "metadata": {},
     "output_type": "execute_result"
    }
   ],
   "source": [
    "n_cd_gr"
   ]
  },
  {
   "cell_type": "code",
   "execution_count": 93,
   "id": "406640e3",
   "metadata": {},
   "outputs": [],
   "source": [
    "labels = n_cd_gr['genre'].unique()\n",
    "x_cause = n_cd_gr['cause'].unique()\n",
    "y_deaths = n_cd_gr['deaths']\n"
   ]
  },
  {
   "cell_type": "code",
   "execution_count": 106,
   "id": "41537b72",
   "metadata": {},
   "outputs": [],
   "source": [
    "n_blues = n_cd_gr['genre'] == 'blues'"
   ]
  },
  {
   "cell_type": "code",
   "execution_count": null,
   "id": "11b5dc8d",
   "metadata": {},
   "outputs": [],
   "source": []
  },
  {
   "cell_type": "markdown",
   "id": "d37f1bc1",
   "metadata": {},
   "source": [
    "## Most common Cause o deaths"
   ]
  },
  {
   "cell_type": "code",
   "execution_count": 26,
   "id": "0146985f",
   "metadata": {},
   "outputs": [],
   "source": [
    "n_cause_death = musician['cause'].value_counts()"
   ]
  },
  {
   "cell_type": "code",
   "execution_count": 27,
   "id": "ca7d2ee9",
   "metadata": {},
   "outputs": [
    {
     "data": {
      "text/plain": [
       "homicide                             68\n",
       "heart disease                        33\n",
       "drug overdose                        18\n",
       "car accident                         17\n",
       "cancer                               17\n",
       "aircraft accident                    13\n",
       "unknown                              13\n",
       "brain disorder                       11\n",
       "suicide                              11\n",
       "pneumonia                             9\n",
       "alcohol overdose                      6\n",
       "drawning                              6\n",
       "diabetes                              4\n",
       "tuberculosis                          2\n",
       "natural                               2\n",
       "AIDS                                  2\n",
       "surgery                               1\n",
       "electrocution                         1\n",
       "Falling                               1\n",
       "accidental self-inflicted gunshot     1\n",
       "Name: cause, dtype: int64"
      ]
     },
     "execution_count": 27,
     "metadata": {},
     "output_type": "execute_result"
    }
   ],
   "source": [
    "n_cause_death"
   ]
  },
  {
   "cell_type": "markdown",
   "id": "e3797bb3",
   "metadata": {},
   "source": [
    "# Correlation"
   ]
  },
  {
   "cell_type": "markdown",
   "id": "680cba80",
   "metadata": {},
   "source": [
    "### Genre - Cause of death"
   ]
  },
  {
   "cell_type": "markdown",
   "id": "a4137517",
   "metadata": {},
   "source": [
    "### Age - Cause of death"
   ]
  },
  {
   "cell_type": "markdown",
   "id": "cfe838e1",
   "metadata": {},
   "source": [
    "### Genre - Age"
   ]
  },
  {
   "cell_type": "code",
   "execution_count": null,
   "id": "20fa2720",
   "metadata": {},
   "outputs": [],
   "source": []
  }
 ],
 "metadata": {
  "kernelspec": {
   "display_name": "Python 3",
   "language": "python",
   "name": "python3"
  },
  "language_info": {
   "codemirror_mode": {
    "name": "ipython",
    "version": 3
   },
   "file_extension": ".py",
   "mimetype": "text/x-python",
   "name": "python",
   "nbconvert_exporter": "python",
   "pygments_lexer": "ipython3",
   "version": "3.8.8"
  }
 },
 "nbformat": 4,
 "nbformat_minor": 5
}
