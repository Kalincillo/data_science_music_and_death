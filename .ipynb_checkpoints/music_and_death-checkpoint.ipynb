{
 "cells": [
  {
   "cell_type": "code",
   "execution_count": null,
   "id": "ac9e906e",
   "metadata": {},
   "outputs": [],
   "source": [
    "# Install MySql packages\n",
    "# ! conda update -n base -c conda-forge conda\n",
    "!pip install ipython-sql\n",
    "!pip install mysql-connector-python\n",
    "!conda install -c conda-forge python-dotenv --yes"
   ]
  },
  {
   "cell_type": "code",
   "execution_count": 1,
   "id": "c66f8002",
   "metadata": {},
   "outputs": [],
   "source": [
    "import pandas as pd\n",
    "import numpy as np\n",
    "import matplotlib.pyplot as plt\n",
    "import seaborn as sns\n",
    "import statsmodels as sm\n",
    "import mysql.connector\n",
    "from mysql.connector import Error\n",
    "from os import environ, path\n",
    "from dotenv import load_dotenv"
   ]
  },
  {
   "cell_type": "code",
   "execution_count": 8,
   "id": "b020b5ce",
   "metadata": {},
   "outputs": [],
   "source": [
    "load_dotenv()\n",
    "password = environ.get('PASSWORD')\n",
    "host = environ.get('HOST')\n",
    "database = environ.get('DATABASE')"
   ]
  },
  {
   "cell_type": "code",
   "execution_count": 9,
   "id": "a82db39a",
   "metadata": {},
   "outputs": [
    {
     "name": "stdout",
     "output_type": "stream",
     "text": [
      "Succes Connected\n"
     ]
    }
   ],
   "source": [
    "try:\n",
    "    connection = mysql.connector.connect(host=host ,\n",
    "                                        database=database,\n",
    "                                        user='root',\n",
    "                                        password=password)\n",
    "    if connection.is_connected():\n",
    "        print(\"Succes Connected\")\n",
    "        \n",
    "except Error as e:\n",
    "    print(\"Error closing connection\")\n",
    "    \n",
    "finally:\n",
    "    pass"
   ]
  },
  {
   "cell_type": "code",
   "execution_count": 10,
   "id": "e181d33b",
   "metadata": {},
   "outputs": [],
   "source": [
    "\n",
    "df_names = pd.read_sql_query(\"SELECT * FROM music_and_death.musician;\", connection)\n",
    "df_death = pd.read_sql_query(\"SELECT * FROM music_and_death.death;\", connection)"
   ]
  },
  {
   "cell_type": "code",
   "execution_count": 11,
   "id": "efa07d7e",
   "metadata": {},
   "outputs": [
    {
     "data": {
      "text/html": [
       "<div>\n",
       "<style scoped>\n",
       "    .dataframe tbody tr th:only-of-type {\n",
       "        vertical-align: middle;\n",
       "    }\n",
       "\n",
       "    .dataframe tbody tr th {\n",
       "        vertical-align: top;\n",
       "    }\n",
       "\n",
       "    .dataframe thead th {\n",
       "        text-align: right;\n",
       "    }\n",
       "</style>\n",
       "<table border=\"1\" class=\"dataframe\">\n",
       "  <thead>\n",
       "    <tr style=\"text-align: right;\">\n",
       "      <th></th>\n",
       "      <th>musician_id</th>\n",
       "      <th>first_name</th>\n",
       "      <th>middle_name</th>\n",
       "      <th>last_name</th>\n",
       "      <th>alias</th>\n",
       "    </tr>\n",
       "  </thead>\n",
       "  <tbody>\n",
       "    <tr>\n",
       "      <th>0</th>\n",
       "      <td>1</td>\n",
       "      <td>John</td>\n",
       "      <td>Winston</td>\n",
       "      <td>Lennon</td>\n",
       "      <td>None</td>\n",
       "    </tr>\n",
       "    <tr>\n",
       "      <th>1</th>\n",
       "      <td>2</td>\n",
       "      <td>Kurt</td>\n",
       "      <td>Donald</td>\n",
       "      <td>Cobain</td>\n",
       "      <td>None</td>\n",
       "    </tr>\n",
       "    <tr>\n",
       "      <th>2</th>\n",
       "      <td>3</td>\n",
       "      <td>Freddie</td>\n",
       "      <td></td>\n",
       "      <td>Mercury</td>\n",
       "      <td>None</td>\n",
       "    </tr>\n",
       "    <tr>\n",
       "      <th>3</th>\n",
       "      <td>4</td>\n",
       "      <td>Darrel</td>\n",
       "      <td>Lance</td>\n",
       "      <td>Abbott</td>\n",
       "      <td>Dimebag</td>\n",
       "    </tr>\n",
       "    <tr>\n",
       "      <th>4</th>\n",
       "      <td>5</td>\n",
       "      <td>Randall</td>\n",
       "      <td>William</td>\n",
       "      <td>Rhoads</td>\n",
       "      <td>Randy</td>\n",
       "    </tr>\n",
       "    <tr>\n",
       "      <th>...</th>\n",
       "      <td>...</td>\n",
       "      <td>...</td>\n",
       "      <td>...</td>\n",
       "      <td>...</td>\n",
       "      <td>...</td>\n",
       "    </tr>\n",
       "    <tr>\n",
       "      <th>104</th>\n",
       "      <td>105</td>\n",
       "      <td>Shubhdeep</td>\n",
       "      <td>Singh</td>\n",
       "      <td>Sidhu</td>\n",
       "      <td>Sidhu Moose Wala</td>\n",
       "    </tr>\n",
       "    <tr>\n",
       "      <th>105</th>\n",
       "      <td>106</td>\n",
       "      <td>Mariel</td>\n",
       "      <td>Semonte</td>\n",
       "      <td>Orr</td>\n",
       "      <td>Trouble</td>\n",
       "    </tr>\n",
       "    <tr>\n",
       "      <th>106</th>\n",
       "      <td>107</td>\n",
       "      <td>Javorius</td>\n",
       "      <td>Tykies</td>\n",
       "      <td>Scott</td>\n",
       "      <td>JayDaYoungan</td>\n",
       "    </tr>\n",
       "    <tr>\n",
       "      <th>107</th>\n",
       "      <td>108</td>\n",
       "      <td>Rakim</td>\n",
       "      <td>Hasheem</td>\n",
       "      <td>Allen</td>\n",
       "      <td>PnB Rock</td>\n",
       "    </tr>\n",
       "    <tr>\n",
       "      <th>108</th>\n",
       "      <td>109</td>\n",
       "      <td>Kirshnik</td>\n",
       "      <td>Khari</td>\n",
       "      <td>Ball</td>\n",
       "      <td>Takeoff</td>\n",
       "    </tr>\n",
       "  </tbody>\n",
       "</table>\n",
       "<p>109 rows × 5 columns</p>\n",
       "</div>"
      ],
      "text/plain": [
       "     musician_id first_name middle_name last_name             alias\n",
       "0              1       John     Winston    Lennon              None\n",
       "1              2       Kurt      Donald    Cobain              None\n",
       "2              3    Freddie               Mercury              None\n",
       "3              4     Darrel       Lance    Abbott           Dimebag\n",
       "4              5    Randall     William    Rhoads             Randy\n",
       "..           ...        ...         ...       ...               ...\n",
       "104          105  Shubhdeep       Singh     Sidhu  Sidhu Moose Wala\n",
       "105          106     Mariel     Semonte       Orr           Trouble\n",
       "106          107   Javorius      Tykies     Scott      JayDaYoungan\n",
       "107          108      Rakim     Hasheem     Allen          PnB Rock\n",
       "108          109   Kirshnik       Khari      Ball           Takeoff\n",
       "\n",
       "[109 rows x 5 columns]"
      ]
     },
     "execution_count": 11,
     "metadata": {},
     "output_type": "execute_result"
    }
   ],
   "source": [
    "df"
   ]
  },
  {
   "cell_type": "code",
   "execution_count": 21,
   "id": "a6f3e2d0",
   "metadata": {},
   "outputs": [
    {
     "data": {
      "text/plain": [
       "28    8\n",
       "21    7\n",
       "27    7\n",
       "34    7\n",
       "32    6\n",
       "25    6\n",
       "20    5\n",
       "37    5\n",
       "33    4\n",
       "24    4\n",
       "26    4\n",
       "53    3\n",
       "19    3\n",
       "36    3\n",
       "38    3\n",
       "30    3\n",
       "22    3\n",
       "50    3\n",
       "23    2\n",
       "42    2\n",
       "45    2\n",
       "49    1\n",
       "71    1\n",
       "69    1\n",
       "79    1\n",
       "67    1\n",
       "57    1\n",
       "52    1\n",
       "51    1\n",
       "18    1\n",
       "48    1\n",
       "46    1\n",
       "44    1\n",
       "41    1\n",
       "40    1\n",
       "39    1\n",
       "35    1\n",
       "31    1\n",
       "29    1\n",
       "90    1\n",
       "Name: death_age, dtype: int64"
      ]
     },
     "execution_count": 21,
     "metadata": {},
     "output_type": "execute_result"
    }
   ],
   "source": [
    "df_death['death_age'].value_counts()"
   ]
  },
  {
   "cell_type": "code",
   "execution_count": null,
   "id": "894c2679",
   "metadata": {},
   "outputs": [],
   "source": []
  }
 ],
 "metadata": {
  "kernelspec": {
   "display_name": "Python 3",
   "language": "python",
   "name": "python3"
  },
  "language_info": {
   "codemirror_mode": {
    "name": "ipython",
    "version": 3
   },
   "file_extension": ".py",
   "mimetype": "text/x-python",
   "name": "python",
   "nbconvert_exporter": "python",
   "pygments_lexer": "ipython3",
   "version": "3.8.8"
  }
 },
 "nbformat": 4,
 "nbformat_minor": 5
}
