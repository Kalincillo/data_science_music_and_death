{
 "cells": [
  {
   "cell_type": "code",
   "execution_count": 101,
   "id": "ac9e906e",
   "metadata": {},
   "outputs": [],
   "source": [
    "# Install MySql packages\n",
    "# conda update -n base -c conda-forge conda --yes\n",
    "# !pip install ipython-sql\n",
    "# !pip install mysql-connector-python\n",
    "# !conda install -c conda-forge python-dotenv --yes"
   ]
  },
  {
   "cell_type": "code",
   "execution_count": 102,
   "id": "c66f8002",
   "metadata": {},
   "outputs": [],
   "source": [
    "import pandas as pd\n",
    "import numpy as np\n",
    "import matplotlib.pyplot as plt\n",
    "import seaborn as sns\n",
    "import statsmodels as sm\n",
    "import mysql.connector\n",
    "from mysql.connector import Error\n",
    "from os import environ, path\n",
    "from dotenv import load_dotenv"
   ]
  },
  {
   "cell_type": "code",
   "execution_count": 103,
   "id": "b020b5ce",
   "metadata": {},
   "outputs": [],
   "source": [
    "# Read enviromental variables to connect the database\n",
    "load_dotenv()\n",
    "password = environ.get('PASSWORD')\n",
    "host = environ.get('HOST')\n",
    "database = environ.get('DATABASE')"
   ]
  },
  {
   "cell_type": "markdown",
   "id": "dd76f153",
   "metadata": {},
   "source": [
    "## Connect to the database and create dataframes for each table"
   ]
  },
  {
   "cell_type": "code",
   "execution_count": 104,
   "id": "a82db39a",
   "metadata": {},
   "outputs": [
    {
     "name": "stdout",
     "output_type": "stream",
     "text": [
      "Succes Connected\n"
     ]
    }
   ],
   "source": [
    "try:\n",
    "    connection = mysql.connector.connect(host=host ,\n",
    "                                        database=database,\n",
    "                                        user='root',\n",
    "                                        password=password)\n",
    "    if connection.is_connected():\n",
    "        print(\"Succes Connected\")\n",
    "    df_musician = pd.read_sql_query(\"SELECT * FROM music_and_death.musician;\", connection)\n",
    "    df_birth = pd.read_sql_query(\"SELECT * FROM music_and_death.birth;\", connection)\n",
    "    df_death = pd.read_sql_query(\"SELECT * FROM music_and_death.death;\", connection)\n",
    "    df_genre = pd.read_sql_query(\"SELECT * FROM music_and_death.music_genre;\", connection)\n",
    "    genre = pd.read_sql_query(\"SELECT * FROM music_and_death.genre;\", connection)\n",
    "    cause_death = pd.read_sql_query(\"SELECT * FROM music_and_death.cause_death;\", connection)\n",
    "    cities = pd.read_sql_query(\"SELECT * FROM music_and_death.cities;\", connection)\n",
    "    states = pd.read_sql_query(\"SELECT * FROM music_and_death.states;\", connection)\n",
    "    countries = pd.read_sql_query(\"SELECT * FROM music_and_death.countries;\", connection)\n",
    "    \n",
    "    \n",
    "except Error as e:\n",
    "    print(\"Error closing connection\")\n",
    "\n",
    "# Concatenate tables\n",
    "else:\n",
    "    # Concatenate musician and death dataframes\n",
    "    df = pd.concat([df_musician, df_birth], axis=1)\n",
    "    df = pd.concat([df, df_death], axis=1)\n",
    "    df = pd.merge(df, cause_death, on=[\"death_id\", \"death_id\"])\n",
    "    df = df.loc[:, ~df.columns.duplicated()].copy()\n",
    "    df = pd.merge(df, df_genre, on=[\"musician_id\"])\n",
    "    df = df.loc[:, ~df.columns.duplicated()].copy()\n",
    "    df = pd.merge(df, genre, on=[\"genre_id\"])\n",
    "    # rearrange columns\n",
    "    df = df.iloc[:, [0, 1, 2, 3, 5, 7, 8, 9, 11, 6, 4, 10]]\n",
    "    \n",
    "finally:\n",
    "    connection.close()"
   ]
  },
  {
   "cell_type": "markdown",
   "id": "0bb539a3",
   "metadata": {},
   "source": [
    "## Merge and clean the cities, states and countries tables"
   ]
  },
  {
   "cell_type": "code",
   "execution_count": 105,
   "id": "9aab8146",
   "metadata": {},
   "outputs": [],
   "source": [
    "# merge cities table with states table\n",
    "place = cities.merge(states, \n",
    "                      left_on=cities[\"state_id\"], \n",
    "                      right_on=states[\"id\"])\n",
    "\n",
    "# drop duplicate keys\n",
    "place.drop(['key_0', 'state_id', 'id_y'], axis=1, inplace=True)\n",
    "\n",
    "# merge resulted table with countries table\n",
    "place = place.merge(countries, \n",
    "                        left_on=place[\"country_id\"],\n",
    "                        right_on=countries[\"id\"])\n",
    "\n",
    "# drop duplicated keys\n",
    "place.drop(['key_0', 'country_id', 'id', 'iso2', 'capital'], \n",
    "              axis=1, \n",
    "              inplace=True)\n",
    "\n",
    "# rename column names\n",
    "place.rename(\n",
    "    columns={'name_x': 'City', \n",
    "             'name_y': 'State', \n",
    "             'name': 'Country', \n",
    "             'id_x': 'city_id'},\n",
    "    inplace=True\n",
    ")"
   ]
  },
  {
   "cell_type": "markdown",
   "id": "1e12bf87",
   "metadata": {},
   "source": [
    "##  Drop columns with not use"
   ]
  },
  {
   "cell_type": "code",
   "execution_count": 106,
   "id": "c40793a1",
   "metadata": {},
   "outputs": [],
   "source": [
    "df.drop(['middle_name', 'death_id', \"death_date\", \"genre_id\", \"birth\"], \n",
    "        axis=1, \n",
    "        inplace=True)"
   ]
  },
  {
   "cell_type": "code",
   "execution_count": 107,
   "id": "66f967c0",
   "metadata": {},
   "outputs": [
    {
     "data": {
      "text/html": [
       "<div>\n",
       "<style scoped>\n",
       "    .dataframe tbody tr th:only-of-type {\n",
       "        vertical-align: middle;\n",
       "    }\n",
       "\n",
       "    .dataframe tbody tr th {\n",
       "        vertical-align: top;\n",
       "    }\n",
       "\n",
       "    .dataframe thead th {\n",
       "        text-align: right;\n",
       "    }\n",
       "</style>\n",
       "<table border=\"1\" class=\"dataframe\">\n",
       "  <thead>\n",
       "    <tr style=\"text-align: right;\">\n",
       "      <th></th>\n",
       "      <th>musician_id</th>\n",
       "      <th>stage_name</th>\n",
       "      <th>stage_lastname</th>\n",
       "      <th>death_age</th>\n",
       "      <th>cause</th>\n",
       "      <th>genre</th>\n",
       "      <th>birthplace_id</th>\n",
       "    </tr>\n",
       "  </thead>\n",
       "  <tbody>\n",
       "    <tr>\n",
       "      <th>0</th>\n",
       "      <td>1</td>\n",
       "      <td>John</td>\n",
       "      <td>Lennon</td>\n",
       "      <td>40</td>\n",
       "      <td>homicide</td>\n",
       "      <td>rock</td>\n",
       "      <td>50337</td>\n",
       "    </tr>\n",
       "    <tr>\n",
       "      <th>1</th>\n",
       "      <td>2</td>\n",
       "      <td>Kurt</td>\n",
       "      <td>Cobain</td>\n",
       "      <td>27</td>\n",
       "      <td>suicide</td>\n",
       "      <td>rock</td>\n",
       "      <td>110979</td>\n",
       "    </tr>\n",
       "    <tr>\n",
       "      <th>2</th>\n",
       "      <td>17</td>\n",
       "      <td>Chris</td>\n",
       "      <td>Cornell</td>\n",
       "      <td>52</td>\n",
       "      <td>suicide</td>\n",
       "      <td>rock</td>\n",
       "      <td>126104</td>\n",
       "    </tr>\n",
       "    <tr>\n",
       "      <th>3</th>\n",
       "      <td>18</td>\n",
       "      <td>Chester</td>\n",
       "      <td>Bennington</td>\n",
       "      <td>41</td>\n",
       "      <td>suicide</td>\n",
       "      <td>rock</td>\n",
       "      <td>124148</td>\n",
       "    </tr>\n",
       "    <tr>\n",
       "      <th>4</th>\n",
       "      <td>32</td>\n",
       "      <td>Ian</td>\n",
       "      <td>Curtis</td>\n",
       "      <td>23</td>\n",
       "      <td>suicide</td>\n",
       "      <td>rock</td>\n",
       "      <td>51499</td>\n",
       "    </tr>\n",
       "    <tr>\n",
       "      <th>...</th>\n",
       "      <td>...</td>\n",
       "      <td>...</td>\n",
       "      <td>...</td>\n",
       "      <td>...</td>\n",
       "      <td>...</td>\n",
       "      <td>...</td>\n",
       "      <td>...</td>\n",
       "    </tr>\n",
       "    <tr>\n",
       "      <th>278</th>\n",
       "      <td>148</td>\n",
       "      <td>A.</td>\n",
       "      <td>Carter</td>\n",
       "      <td>68</td>\n",
       "      <td>unknown</td>\n",
       "      <td>country</td>\n",
       "      <td>126050</td>\n",
       "    </tr>\n",
       "    <tr>\n",
       "      <th>279</th>\n",
       "      <td>241</td>\n",
       "      <td>Baby</td>\n",
       "      <td>Huey</td>\n",
       "      <td>26</td>\n",
       "      <td>drug overdose</td>\n",
       "      <td>funk</td>\n",
       "      <td>125084</td>\n",
       "    </tr>\n",
       "    <tr>\n",
       "      <th>280</th>\n",
       "      <td>175</td>\n",
       "      <td>Richard</td>\n",
       "      <td>Fariña</td>\n",
       "      <td>29</td>\n",
       "      <td>car/motorcycle accident</td>\n",
       "      <td>folk</td>\n",
       "      <td>122795</td>\n",
       "    </tr>\n",
       "    <tr>\n",
       "      <th>281</th>\n",
       "      <td>190</td>\n",
       "      <td>Woody</td>\n",
       "      <td>Guthrie</td>\n",
       "      <td>55</td>\n",
       "      <td>brain disorder</td>\n",
       "      <td>folk</td>\n",
       "      <td>123401</td>\n",
       "    </tr>\n",
       "    <tr>\n",
       "      <th>282</th>\n",
       "      <td>185</td>\n",
       "      <td>Nelson</td>\n",
       "      <td>Eddy</td>\n",
       "      <td>65</td>\n",
       "      <td>brain disorder</td>\n",
       "      <td>classical</td>\n",
       "      <td>124716</td>\n",
       "    </tr>\n",
       "  </tbody>\n",
       "</table>\n",
       "<p>283 rows × 7 columns</p>\n",
       "</div>"
      ],
      "text/plain": [
       "     musician_id stage_name stage_lastname  death_age  \\\n",
       "0              1       John         Lennon         40   \n",
       "1              2       Kurt         Cobain         27   \n",
       "2             17      Chris        Cornell         52   \n",
       "3             18   Chester      Bennington         41   \n",
       "4             32        Ian         Curtis         23   \n",
       "..           ...        ...            ...        ...   \n",
       "278          148         A.         Carter         68   \n",
       "279          241       Baby           Huey         26   \n",
       "280          175    Richard         Fariña         29   \n",
       "281          190      Woody        Guthrie         55   \n",
       "282          185     Nelson           Eddy         65   \n",
       "\n",
       "                       cause      genre  birthplace_id  \n",
       "0                   homicide       rock          50337  \n",
       "1                    suicide       rock         110979  \n",
       "2                    suicide       rock         126104  \n",
       "3                    suicide       rock         124148  \n",
       "4                    suicide       rock          51499  \n",
       "..                       ...        ...            ...  \n",
       "278                  unknown    country         126050  \n",
       "279            drug overdose       funk         125084  \n",
       "280  car/motorcycle accident       folk         122795  \n",
       "281           brain disorder       folk         123401  \n",
       "282           brain disorder  classical         124716  \n",
       "\n",
       "[283 rows x 7 columns]"
      ]
     },
     "execution_count": 107,
     "metadata": {},
     "output_type": "execute_result"
    }
   ],
   "source": [
    "df"
   ]
  },
  {
   "cell_type": "code",
   "execution_count": 108,
   "id": "12694b51",
   "metadata": {},
   "outputs": [
    {
     "data": {
      "text/html": [
       "<div>\n",
       "<style scoped>\n",
       "    .dataframe tbody tr th:only-of-type {\n",
       "        vertical-align: middle;\n",
       "    }\n",
       "\n",
       "    .dataframe tbody tr th {\n",
       "        vertical-align: top;\n",
       "    }\n",
       "\n",
       "    .dataframe thead th {\n",
       "        text-align: right;\n",
       "    }\n",
       "</style>\n",
       "<table border=\"1\" class=\"dataframe\">\n",
       "  <thead>\n",
       "    <tr style=\"text-align: right;\">\n",
       "      <th></th>\n",
       "      <th>city_id</th>\n",
       "      <th>City</th>\n",
       "      <th>State</th>\n",
       "      <th>Country</th>\n",
       "    </tr>\n",
       "  </thead>\n",
       "  <tbody>\n",
       "    <tr>\n",
       "      <th>0</th>\n",
       "      <td>52</td>\n",
       "      <td>Ashkāsham</td>\n",
       "      <td>Badakhshan</td>\n",
       "      <td>Afghanistan</td>\n",
       "    </tr>\n",
       "    <tr>\n",
       "      <th>1</th>\n",
       "      <td>68</td>\n",
       "      <td>Fayzabad</td>\n",
       "      <td>Badakhshan</td>\n",
       "      <td>Afghanistan</td>\n",
       "    </tr>\n",
       "    <tr>\n",
       "      <th>2</th>\n",
       "      <td>78</td>\n",
       "      <td>Jurm</td>\n",
       "      <td>Badakhshan</td>\n",
       "      <td>Afghanistan</td>\n",
       "    </tr>\n",
       "    <tr>\n",
       "      <th>3</th>\n",
       "      <td>84</td>\n",
       "      <td>Khandūd</td>\n",
       "      <td>Badakhshan</td>\n",
       "      <td>Afghanistan</td>\n",
       "    </tr>\n",
       "    <tr>\n",
       "      <th>4</th>\n",
       "      <td>115</td>\n",
       "      <td>Rāghistān</td>\n",
       "      <td>Badakhshan</td>\n",
       "      <td>Afghanistan</td>\n",
       "    </tr>\n",
       "    <tr>\n",
       "      <th>...</th>\n",
       "      <td>...</td>\n",
       "      <td>...</td>\n",
       "      <td>...</td>\n",
       "      <td>...</td>\n",
       "    </tr>\n",
       "    <tr>\n",
       "      <th>148261</th>\n",
       "      <td>131496</td>\n",
       "      <td>Redcliff</td>\n",
       "      <td>Midlands Province</td>\n",
       "      <td>Zimbabwe</td>\n",
       "    </tr>\n",
       "    <tr>\n",
       "      <th>148262</th>\n",
       "      <td>131502</td>\n",
       "      <td>Shangani</td>\n",
       "      <td>Midlands Province</td>\n",
       "      <td>Zimbabwe</td>\n",
       "    </tr>\n",
       "    <tr>\n",
       "      <th>148263</th>\n",
       "      <td>131503</td>\n",
       "      <td>Shurugwi</td>\n",
       "      <td>Midlands Province</td>\n",
       "      <td>Zimbabwe</td>\n",
       "    </tr>\n",
       "    <tr>\n",
       "      <th>148264</th>\n",
       "      <td>131504</td>\n",
       "      <td>Shurugwi District</td>\n",
       "      <td>Midlands Province</td>\n",
       "      <td>Zimbabwe</td>\n",
       "    </tr>\n",
       "    <tr>\n",
       "      <th>148265</th>\n",
       "      <td>131508</td>\n",
       "      <td>Zvishavane District</td>\n",
       "      <td>Midlands Province</td>\n",
       "      <td>Zimbabwe</td>\n",
       "    </tr>\n",
       "  </tbody>\n",
       "</table>\n",
       "<p>148266 rows × 4 columns</p>\n",
       "</div>"
      ],
      "text/plain": [
       "        city_id                 City              State      Country\n",
       "0            52            Ashkāsham         Badakhshan  Afghanistan\n",
       "1            68             Fayzabad         Badakhshan  Afghanistan\n",
       "2            78                 Jurm         Badakhshan  Afghanistan\n",
       "3            84              Khandūd         Badakhshan  Afghanistan\n",
       "4           115            Rāghistān         Badakhshan  Afghanistan\n",
       "...         ...                  ...                ...          ...\n",
       "148261   131496             Redcliff  Midlands Province     Zimbabwe\n",
       "148262   131502             Shangani  Midlands Province     Zimbabwe\n",
       "148263   131503             Shurugwi  Midlands Province     Zimbabwe\n",
       "148264   131504    Shurugwi District  Midlands Province     Zimbabwe\n",
       "148265   131508  Zvishavane District  Midlands Province     Zimbabwe\n",
       "\n",
       "[148266 rows x 4 columns]"
      ]
     },
     "execution_count": 108,
     "metadata": {},
     "output_type": "execute_result"
    }
   ],
   "source": [
    "place"
   ]
  },
  {
   "cell_type": "markdown",
   "id": "285f50f2",
   "metadata": {},
   "source": [
    "## Merge musician info dataframe with place dataframe"
   ]
  },
  {
   "cell_type": "code",
   "execution_count": 109,
   "id": "e5f4b129",
   "metadata": {},
   "outputs": [],
   "source": [
    "# merge df and place dataframes\n",
    "musician = df.merge(place, \n",
    "                    left_on=df['birthplace_id'], \n",
    "                    right_on=place['city_id'])\n",
    "\n",
    "# drop unused columns\n",
    "musician.drop(['birthplace_id', 'city_id', 'key_0'], axis=1, inplace=True)"
   ]
  },
  {
   "cell_type": "code",
   "execution_count": 110,
   "id": "dab04141",
   "metadata": {},
   "outputs": [
    {
     "data": {
      "text/html": [
       "<div>\n",
       "<style scoped>\n",
       "    .dataframe tbody tr th:only-of-type {\n",
       "        vertical-align: middle;\n",
       "    }\n",
       "\n",
       "    .dataframe tbody tr th {\n",
       "        vertical-align: top;\n",
       "    }\n",
       "\n",
       "    .dataframe thead th {\n",
       "        text-align: right;\n",
       "    }\n",
       "</style>\n",
       "<table border=\"1\" class=\"dataframe\">\n",
       "  <thead>\n",
       "    <tr style=\"text-align: right;\">\n",
       "      <th></th>\n",
       "      <th>musician_id</th>\n",
       "      <th>stage_name</th>\n",
       "      <th>stage_lastname</th>\n",
       "      <th>death_age</th>\n",
       "      <th>cause</th>\n",
       "      <th>genre</th>\n",
       "      <th>City</th>\n",
       "      <th>State</th>\n",
       "      <th>Country</th>\n",
       "    </tr>\n",
       "  </thead>\n",
       "  <tbody>\n",
       "    <tr>\n",
       "      <th>0</th>\n",
       "      <td>1</td>\n",
       "      <td>John</td>\n",
       "      <td>Lennon</td>\n",
       "      <td>40</td>\n",
       "      <td>homicide</td>\n",
       "      <td>rock</td>\n",
       "      <td>Liverpool</td>\n",
       "      <td>England</td>\n",
       "      <td>United Kingdom</td>\n",
       "    </tr>\n",
       "    <tr>\n",
       "      <th>1</th>\n",
       "      <td>271</td>\n",
       "      <td>Rory</td>\n",
       "      <td>Storm</td>\n",
       "      <td>34</td>\n",
       "      <td>suicide</td>\n",
       "      <td>rock</td>\n",
       "      <td>Liverpool</td>\n",
       "      <td>England</td>\n",
       "      <td>United Kingdom</td>\n",
       "    </tr>\n",
       "    <tr>\n",
       "      <th>2</th>\n",
       "      <td>188</td>\n",
       "      <td>Brian</td>\n",
       "      <td>Epstein</td>\n",
       "      <td>32</td>\n",
       "      <td>drug overdose</td>\n",
       "      <td>rock</td>\n",
       "      <td>Liverpool</td>\n",
       "      <td>England</td>\n",
       "      <td>United Kingdom</td>\n",
       "    </tr>\n",
       "    <tr>\n",
       "      <th>3</th>\n",
       "      <td>2</td>\n",
       "      <td>Kurt</td>\n",
       "      <td>Cobain</td>\n",
       "      <td>27</td>\n",
       "      <td>suicide</td>\n",
       "      <td>rock</td>\n",
       "      <td>Aberdeen</td>\n",
       "      <td>Washington</td>\n",
       "      <td>United States</td>\n",
       "    </tr>\n",
       "    <tr>\n",
       "      <th>4</th>\n",
       "      <td>17</td>\n",
       "      <td>Chris</td>\n",
       "      <td>Cornell</td>\n",
       "      <td>52</td>\n",
       "      <td>suicide</td>\n",
       "      <td>rock</td>\n",
       "      <td>Seattle</td>\n",
       "      <td>Washington</td>\n",
       "      <td>United States</td>\n",
       "    </tr>\n",
       "    <tr>\n",
       "      <th>...</th>\n",
       "      <td>...</td>\n",
       "      <td>...</td>\n",
       "      <td>...</td>\n",
       "      <td>...</td>\n",
       "      <td>...</td>\n",
       "      <td>...</td>\n",
       "      <td>...</td>\n",
       "      <td>...</td>\n",
       "      <td>...</td>\n",
       "    </tr>\n",
       "    <tr>\n",
       "      <th>277</th>\n",
       "      <td>37</td>\n",
       "      <td>Johnny</td>\n",
       "      <td>Cash</td>\n",
       "      <td>71</td>\n",
       "      <td>diabetes</td>\n",
       "      <td>country</td>\n",
       "      <td>Cleveland County</td>\n",
       "      <td>Arkansas</td>\n",
       "      <td>United States</td>\n",
       "    </tr>\n",
       "    <tr>\n",
       "      <th>278</th>\n",
       "      <td>148</td>\n",
       "      <td>A.</td>\n",
       "      <td>Carter</td>\n",
       "      <td>68</td>\n",
       "      <td>unknown</td>\n",
       "      <td>country</td>\n",
       "      <td>Scott County</td>\n",
       "      <td>Virginia</td>\n",
       "      <td>United States</td>\n",
       "    </tr>\n",
       "    <tr>\n",
       "      <th>279</th>\n",
       "      <td>241</td>\n",
       "      <td>Baby</td>\n",
       "      <td>Huey</td>\n",
       "      <td>26</td>\n",
       "      <td>drug overdose</td>\n",
       "      <td>funk</td>\n",
       "      <td>Richmond</td>\n",
       "      <td>Indiana</td>\n",
       "      <td>United States</td>\n",
       "    </tr>\n",
       "    <tr>\n",
       "      <th>280</th>\n",
       "      <td>190</td>\n",
       "      <td>Woody</td>\n",
       "      <td>Guthrie</td>\n",
       "      <td>55</td>\n",
       "      <td>brain disorder</td>\n",
       "      <td>folk</td>\n",
       "      <td>Okemah</td>\n",
       "      <td>Oklahoma</td>\n",
       "      <td>United States</td>\n",
       "    </tr>\n",
       "    <tr>\n",
       "      <th>281</th>\n",
       "      <td>185</td>\n",
       "      <td>Nelson</td>\n",
       "      <td>Eddy</td>\n",
       "      <td>65</td>\n",
       "      <td>brain disorder</td>\n",
       "      <td>classical</td>\n",
       "      <td>Providence</td>\n",
       "      <td>Rhode Island</td>\n",
       "      <td>United States</td>\n",
       "    </tr>\n",
       "  </tbody>\n",
       "</table>\n",
       "<p>282 rows × 9 columns</p>\n",
       "</div>"
      ],
      "text/plain": [
       "     musician_id stage_name stage_lastname  death_age           cause  \\\n",
       "0              1       John         Lennon         40        homicide   \n",
       "1            271       Rory          Storm         34         suicide   \n",
       "2            188      Brian        Epstein         32   drug overdose   \n",
       "3              2       Kurt         Cobain         27         suicide   \n",
       "4             17      Chris        Cornell         52         suicide   \n",
       "..           ...        ...            ...        ...             ...   \n",
       "277           37     Johnny           Cash         71        diabetes   \n",
       "278          148         A.         Carter         68         unknown   \n",
       "279          241       Baby           Huey         26   drug overdose   \n",
       "280          190      Woody        Guthrie         55  brain disorder   \n",
       "281          185     Nelson           Eddy         65  brain disorder   \n",
       "\n",
       "         genre              City         State         Country  \n",
       "0         rock         Liverpool       England  United Kingdom  \n",
       "1         rock         Liverpool       England  United Kingdom  \n",
       "2         rock         Liverpool       England  United Kingdom  \n",
       "3         rock          Aberdeen    Washington   United States  \n",
       "4         rock           Seattle    Washington   United States  \n",
       "..         ...               ...           ...             ...  \n",
       "277    country  Cleveland County      Arkansas   United States  \n",
       "278    country      Scott County      Virginia   United States  \n",
       "279       funk          Richmond       Indiana   United States  \n",
       "280       folk            Okemah      Oklahoma   United States  \n",
       "281  classical        Providence  Rhode Island   United States  \n",
       "\n",
       "[282 rows x 9 columns]"
      ]
     },
     "execution_count": 110,
     "metadata": {},
     "output_type": "execute_result"
    }
   ],
   "source": [
    "musician"
   ]
  },
  {
   "cell_type": "markdown",
   "id": "8aab8fb1",
   "metadata": {},
   "source": [
    "## Create plots to observe the data"
   ]
  },
  {
   "cell_type": "code",
   "execution_count": 111,
   "id": "3517b178",
   "metadata": {},
   "outputs": [
    {
     "data": {
      "image/png": "[encoded data removed]",
      "text/plain": [
       "<Figure size 648x360 with 1 Axes>"
      ]
     },
     "metadata": {
      "needs_background": "light"
     },
     "output_type": "display_data"
    }
   ],
   "source": [
    "# Bar plot to show deaths per music genre \n",
    "\n",
    "# Create a new music table using genre as indez and size of each genre\n",
    "df_n = musician.pivot_table(index=['genre'], aggfunc='size')\n",
    "\n",
    "# plot the data\n",
    "plt.figure(figsize=(9,5))\n",
    "plt.bar(df_n.index, df_n, color=\n",
    "        ['red', 'orange', 'green',\n",
    "         'cyan', 'purple', 'black',\n",
    "         'yellow', 'brown', 'grey', 'pink'])\n",
    "plt.ylabel(\"Deaths\")\n",
    "plt.xlabel(\"Genre\")\n",
    "plt.xticks(rotation='vertical')\n",
    "plt.show()"
   ]
  },
  {
   "cell_type": "markdown",
   "id": "2c100d58",
   "metadata": {},
   "source": [
    "## Cause of death per music genre"
   ]
  },
  {
   "cell_type": "code",
   "execution_count": 112,
   "id": "6b00ead4",
   "metadata": {
    "scrolled": false
   },
   "outputs": [
    {
     "data": {
      "text/plain": [
       "cause                              genre  \n",
       "AIDS                               pop        1\n",
       "                                   rock       1\n",
       "Burned                             blues      1\n",
       "Falling                            rock       1\n",
       "accidental self-inflicted gunshot  blues      1\n",
       "                                             ..\n",
       "tuberculosis                       blues      1\n",
       "                                   jazz       1\n",
       "unknown                            blues      9\n",
       "                                   country    1\n",
       "                                   jazz       8\n",
       "Length: 70, dtype: int64"
      ]
     },
     "execution_count": 112,
     "metadata": {},
     "output_type": "execute_result"
    }
   ],
   "source": [
    "df_cd = musician.pivot_table(index=['cause', 'genre'], aggfunc='size')\n",
    "df_cd"
   ]
  },
  {
   "cell_type": "markdown",
   "id": "638cba84",
   "metadata": {},
   "source": [
    "# Questions"
   ]
  },
  {
   "cell_type": "markdown",
   "id": "51377a49",
   "metadata": {},
   "source": [
    "## Most common Death Ages\n"
   ]
  },
  {
   "cell_type": "code",
   "execution_count": 113,
   "id": "ad3d62e6",
   "metadata": {},
   "outputs": [],
   "source": [
    "n_da = musician['death_age'].value_counts().nlargest(15)"
   ]
  },
  {
   "cell_type": "code",
   "execution_count": 114,
   "id": "2cf719b2",
   "metadata": {},
   "outputs": [
    {
     "data": {
      "text/plain": [
       "27    19\n",
       "32    11\n",
       "37    10\n",
       "28    10\n",
       "21     9\n",
       "25     9\n",
       "34     9\n",
       "24     8\n",
       "30     8\n",
       "36     7\n",
       "40     7\n",
       "39     7\n",
       "29     7\n",
       "33     7\n",
       "53     6\n",
       "Name: death_age, dtype: int64"
      ]
     },
     "execution_count": 114,
     "metadata": {},
     "output_type": "execute_result"
    }
   ],
   "source": [
    "n_da"
   ]
  },
  {
   "cell_type": "code",
   "execution_count": 115,
   "id": "bcb91fc0",
   "metadata": {},
   "outputs": [
    {
     "data": {
      "image/png": "[encoded data removed]",
      "text/plain": [
       "<Figure size 432x288 with 1 Axes>"
      ]
     },
     "metadata": {},
     "output_type": "display_data"
    }
   ],
   "source": [
    "\n",
    "plt.pie(n_da.values, labels=n_da.index, startangle=90, shadow=True)\n",
    "plt.title(\"Most common death ages\")\n",
    "# plt.legend(title='Death age', loc=(1, 0.25))\n",
    "plt.show()"
   ]
  },
  {
   "cell_type": "code",
   "execution_count": 116,
   "id": "960996f1",
   "metadata": {},
   "outputs": [
    {
     "data": {
      "text/plain": [
       "array([19, 11, 10, 10,  9,  9,  9,  8,  8,  7,  7,  7,  7,  7,  6],\n",
       "      dtype=int64)"
      ]
     },
     "execution_count": 116,
     "metadata": {},
     "output_type": "execute_result"
    }
   ],
   "source": [
    "n_da.values"
   ]
  },
  {
   "cell_type": "code",
   "execution_count": null,
   "id": "16f7491e",
   "metadata": {},
   "outputs": [],
   "source": []
  },
  {
   "cell_type": "markdown",
   "id": "0ac38868",
   "metadata": {},
   "source": [
    "## Most common Music Genre"
   ]
  },
  {
   "cell_type": "code",
   "execution_count": 117,
   "id": "bc3ec91d",
   "metadata": {},
   "outputs": [],
   "source": [
    "n_mg = musician['genre'].value_counts()"
   ]
  },
  {
   "cell_type": "code",
   "execution_count": 118,
   "id": "851575bf",
   "metadata": {},
   "outputs": [
    {
     "data": {
      "text/plain": [
       "blues        81\n",
       "rock         62\n",
       "hip-hop      59\n",
       "jazz         40\n",
       "country      15\n",
       "pop          12\n",
       "metal         8\n",
       "folk          2\n",
       "funk          1\n",
       "classical     1\n",
       "ska           1\n",
       "Name: genre, dtype: int64"
      ]
     },
     "execution_count": 118,
     "metadata": {},
     "output_type": "execute_result"
    }
   ],
   "source": [
    "n_mg"
   ]
  },
  {
   "cell_type": "code",
   "execution_count": 119,
   "id": "68ae17b8",
   "metadata": {},
   "outputs": [
    {
     "data": {
      "text/plain": [
       "<BarContainer object of 11 artists>"
      ]
     },
     "execution_count": 119,
     "metadata": {},
     "output_type": "execute_result"
    },
    {
     "data": {
      "image/png": "[encoded data removed]",
      "text/plain": [
       "<Figure size 432x288 with 1 Axes>"
      ]
     },
     "metadata": {
      "needs_background": "light"
     },
     "output_type": "display_data"
    }
   ],
   "source": [
    "plt.bar(n_mg.index, n_mg.values)"
   ]
  },
  {
   "cell_type": "markdown",
   "id": "540d015a",
   "metadata": {},
   "source": [
    "# Places"
   ]
  },
  {
   "cell_type": "markdown",
   "id": "3bd72ef1",
   "metadata": {},
   "source": [
    "### Most common Countries"
   ]
  },
  {
   "cell_type": "code",
   "execution_count": 120,
   "id": "7ae90493",
   "metadata": {},
   "outputs": [],
   "source": [
    "n_places = musician['Country'].value_counts()"
   ]
  },
  {
   "cell_type": "code",
   "execution_count": 121,
   "id": "10f8e65d",
   "metadata": {},
   "outputs": [
    {
     "data": {
      "text/plain": [
       "United States     231\n",
       "United Kingdom     25\n",
       "Germany             3\n",
       "Lithuania           2\n",
       "Canada              2\n",
       "Australia           2\n",
       "Jamaica             2\n",
       "Turkey              1\n",
       "Greece              1\n",
       "Norway              1\n",
       "Netherlands         1\n",
       "South Africa        1\n",
       "Brazil              1\n",
       "New Zealand         1\n",
       "Sweden              1\n",
       "India               1\n",
       "Colombia            1\n",
       "Tanzania            1\n",
       "Finland             1\n",
       "Mexico              1\n",
       "Haiti               1\n",
       "Belarus             1\n",
       "Name: Country, dtype: int64"
      ]
     },
     "execution_count": 121,
     "metadata": {},
     "output_type": "execute_result"
    }
   ],
   "source": [
    "n_places"
   ]
  },
  {
   "cell_type": "markdown",
   "id": "8e89fabb",
   "metadata": {},
   "source": [
    "### Most common States"
   ]
  },
  {
   "cell_type": "code",
   "execution_count": 122,
   "id": "7f2bcde5",
   "metadata": {},
   "outputs": [],
   "source": [
    "n_states = musician['State'].value_counts().nlargest(20)"
   ]
  },
  {
   "cell_type": "code",
   "execution_count": 123,
   "id": "5ec7343e",
   "metadata": {},
   "outputs": [
    {
     "data": {
      "text/plain": [
       "New York          27\n",
       "Mississippi       26\n",
       "England           20\n",
       "California        20\n",
       "Texas             18\n",
       "Louisiana         16\n",
       "Tennessee         15\n",
       "Georgia           12\n",
       "Alabama           12\n",
       "Pennsylvania       8\n",
       "Illinois           6\n",
       "Arkansas           6\n",
       "Washington         6\n",
       "Missouri           6\n",
       "Scotland           5\n",
       "Ohio               5\n",
       "Virginia           5\n",
       "North Carolina     4\n",
       "Indiana            4\n",
       "Florida            4\n",
       "Name: State, dtype: int64"
      ]
     },
     "execution_count": 123,
     "metadata": {},
     "output_type": "execute_result"
    }
   ],
   "source": [
    "n_states"
   ]
  },
  {
   "cell_type": "markdown",
   "id": "cdbb2ec1",
   "metadata": {},
   "source": [
    "### Most common Cities"
   ]
  },
  {
   "cell_type": "code",
   "execution_count": 124,
   "id": "61c5e88c",
   "metadata": {},
   "outputs": [],
   "source": [
    "n_cities = musician['City'].value_counts().nlargest(20)"
   ]
  },
  {
   "cell_type": "code",
   "execution_count": 125,
   "id": "562466c4",
   "metadata": {},
   "outputs": [
    {
     "data": {
      "text/plain": [
       "New York City    16\n",
       "New Orleans       9\n",
       "Los Angeles       8\n",
       "Memphis           7\n",
       "London            7\n",
       "Philadelphia      6\n",
       "Birmingham        5\n",
       "Chicago           5\n",
       "Queens            4\n",
       "Liverpool         3\n",
       "Richmond          3\n",
       "Dallas            3\n",
       "Atlanta           3\n",
       "Como              2\n",
       "Melbourne         2\n",
       "Kingston          2\n",
       "Louisiana         2\n",
       "Oakland           2\n",
       "Glasgow           2\n",
       "Houston           2\n",
       "Name: City, dtype: int64"
      ]
     },
     "execution_count": 125,
     "metadata": {},
     "output_type": "execute_result"
    }
   ],
   "source": [
    "n_cities"
   ]
  },
  {
   "cell_type": "markdown",
   "id": "e0922580",
   "metadata": {},
   "source": []
  },
  {
   "cell_type": "markdown",
   "id": "0306fad8",
   "metadata": {},
   "source": [
    "## Death genre - cause"
   ]
  },
  {
   "cell_type": "code",
   "execution_count": 126,
   "id": "2998eca5",
   "metadata": {},
   "outputs": [],
   "source": [
    "n_cd_gr = musician.loc[:, ['genre', 'cause']].value_counts()"
   ]
  },
  {
   "cell_type": "code",
   "execution_count": 127,
   "id": "5695506b",
   "metadata": {},
   "outputs": [
    {
     "data": {
      "text/plain": [
       "genre    cause                            \n",
       "hip-hop  homicide                             58\n",
       "blues    heart disease                        20\n",
       "         cancer                               12\n",
       "jazz     heart disease                        11\n",
       "rock     drug overdose                        11\n",
       "                                              ..\n",
       "blues    accidental self-inflicted gunshot     1\n",
       "jazz     suicide                               1\n",
       "         tuberculosis                          1\n",
       "metal    aircraft accident                     1\n",
       "ska      suicide                               1\n",
       "Length: 70, dtype: int64"
      ]
     },
     "execution_count": 127,
     "metadata": {},
     "output_type": "execute_result"
    }
   ],
   "source": [
    "n_cd_gr"
   ]
  },
  {
   "cell_type": "code",
   "execution_count": 128,
   "id": "488fdbb2",
   "metadata": {},
   "outputs": [],
   "source": [
    "n_cd_gr = n_cd_gr.reset_index()\n",
    "n_cd_gr.rename(columns={0: 'deaths'}, inplace=True)"
   ]
  },
  {
   "cell_type": "code",
   "execution_count": 129,
   "id": "c5ba0cbd",
   "metadata": {},
   "outputs": [
    {
     "data": {
      "text/html": [
       "<div>\n",
       "<style scoped>\n",
       "    .dataframe tbody tr th:only-of-type {\n",
       "        vertical-align: middle;\n",
       "    }\n",
       "\n",
       "    .dataframe tbody tr th {\n",
       "        vertical-align: top;\n",
       "    }\n",
       "\n",
       "    .dataframe thead th {\n",
       "        text-align: right;\n",
       "    }\n",
       "</style>\n",
       "<table border=\"1\" class=\"dataframe\">\n",
       "  <thead>\n",
       "    <tr style=\"text-align: right;\">\n",
       "      <th></th>\n",
       "      <th>genre</th>\n",
       "      <th>cause</th>\n",
       "      <th>deaths</th>\n",
       "    </tr>\n",
       "  </thead>\n",
       "  <tbody>\n",
       "    <tr>\n",
       "      <th>0</th>\n",
       "      <td>hip-hop</td>\n",
       "      <td>homicide</td>\n",
       "      <td>58</td>\n",
       "    </tr>\n",
       "    <tr>\n",
       "      <th>1</th>\n",
       "      <td>blues</td>\n",
       "      <td>heart disease</td>\n",
       "      <td>20</td>\n",
       "    </tr>\n",
       "    <tr>\n",
       "      <th>2</th>\n",
       "      <td>blues</td>\n",
       "      <td>cancer</td>\n",
       "      <td>12</td>\n",
       "    </tr>\n",
       "    <tr>\n",
       "      <th>3</th>\n",
       "      <td>jazz</td>\n",
       "      <td>heart disease</td>\n",
       "      <td>11</td>\n",
       "    </tr>\n",
       "    <tr>\n",
       "      <th>4</th>\n",
       "      <td>rock</td>\n",
       "      <td>drug overdose</td>\n",
       "      <td>11</td>\n",
       "    </tr>\n",
       "    <tr>\n",
       "      <th>...</th>\n",
       "      <td>...</td>\n",
       "      <td>...</td>\n",
       "      <td>...</td>\n",
       "    </tr>\n",
       "    <tr>\n",
       "      <th>65</th>\n",
       "      <td>blues</td>\n",
       "      <td>accidental self-inflicted gunshot</td>\n",
       "      <td>1</td>\n",
       "    </tr>\n",
       "    <tr>\n",
       "      <th>66</th>\n",
       "      <td>jazz</td>\n",
       "      <td>suicide</td>\n",
       "      <td>1</td>\n",
       "    </tr>\n",
       "    <tr>\n",
       "      <th>67</th>\n",
       "      <td>jazz</td>\n",
       "      <td>tuberculosis</td>\n",
       "      <td>1</td>\n",
       "    </tr>\n",
       "    <tr>\n",
       "      <th>68</th>\n",
       "      <td>metal</td>\n",
       "      <td>aircraft accident</td>\n",
       "      <td>1</td>\n",
       "    </tr>\n",
       "    <tr>\n",
       "      <th>69</th>\n",
       "      <td>ska</td>\n",
       "      <td>suicide</td>\n",
       "      <td>1</td>\n",
       "    </tr>\n",
       "  </tbody>\n",
       "</table>\n",
       "<p>70 rows × 3 columns</p>\n",
       "</div>"
      ],
      "text/plain": [
       "      genre                              cause  deaths\n",
       "0   hip-hop                           homicide      58\n",
       "1     blues                      heart disease      20\n",
       "2     blues                             cancer      12\n",
       "3      jazz                      heart disease      11\n",
       "4      rock                      drug overdose      11\n",
       "..      ...                                ...     ...\n",
       "65    blues  accidental self-inflicted gunshot       1\n",
       "66     jazz                            suicide       1\n",
       "67     jazz                       tuberculosis       1\n",
       "68    metal                  aircraft accident       1\n",
       "69      ska                            suicide       1\n",
       "\n",
       "[70 rows x 3 columns]"
      ]
     },
     "execution_count": 129,
     "metadata": {},
     "output_type": "execute_result"
    }
   ],
   "source": [
    "n_cd_gr"
   ]
  },
  {
   "cell_type": "markdown",
   "id": "aa18498f",
   "metadata": {},
   "source": [
    "### Blues "
   ]
  },
  {
   "cell_type": "code",
   "execution_count": 130,
   "id": "c0665ed9",
   "metadata": {},
   "outputs": [],
   "source": [
    "n_blues = n_cd_gr.loc[n_cd_gr['genre'] == 'blues', ]"
   ]
  },
  {
   "cell_type": "code",
   "execution_count": 131,
   "id": "ed7c262c",
   "metadata": {},
   "outputs": [
    {
     "data": {
      "text/html": [
       "<div>\n",
       "<style scoped>\n",
       "    .dataframe tbody tr th:only-of-type {\n",
       "        vertical-align: middle;\n",
       "    }\n",
       "\n",
       "    .dataframe tbody tr th {\n",
       "        vertical-align: top;\n",
       "    }\n",
       "\n",
       "    .dataframe thead th {\n",
       "        text-align: right;\n",
       "    }\n",
       "</style>\n",
       "<table border=\"1\" class=\"dataframe\">\n",
       "  <thead>\n",
       "    <tr style=\"text-align: right;\">\n",
       "      <th></th>\n",
       "      <th>genre</th>\n",
       "      <th>cause</th>\n",
       "      <th>deaths</th>\n",
       "    </tr>\n",
       "  </thead>\n",
       "  <tbody>\n",
       "    <tr>\n",
       "      <th>1</th>\n",
       "      <td>blues</td>\n",
       "      <td>heart disease</td>\n",
       "      <td>20</td>\n",
       "    </tr>\n",
       "    <tr>\n",
       "      <th>2</th>\n",
       "      <td>blues</td>\n",
       "      <td>cancer</td>\n",
       "      <td>12</td>\n",
       "    </tr>\n",
       "    <tr>\n",
       "      <th>5</th>\n",
       "      <td>blues</td>\n",
       "      <td>unknown</td>\n",
       "      <td>9</td>\n",
       "    </tr>\n",
       "    <tr>\n",
       "      <th>11</th>\n",
       "      <td>blues</td>\n",
       "      <td>homicide</td>\n",
       "      <td>7</td>\n",
       "    </tr>\n",
       "    <tr>\n",
       "      <th>12</th>\n",
       "      <td>blues</td>\n",
       "      <td>diabetes</td>\n",
       "      <td>5</td>\n",
       "    </tr>\n",
       "    <tr>\n",
       "      <th>13</th>\n",
       "      <td>blues</td>\n",
       "      <td>car/motorcycle accident</td>\n",
       "      <td>5</td>\n",
       "    </tr>\n",
       "    <tr>\n",
       "      <th>14</th>\n",
       "      <td>blues</td>\n",
       "      <td>pneumonia</td>\n",
       "      <td>5</td>\n",
       "    </tr>\n",
       "    <tr>\n",
       "      <th>18</th>\n",
       "      <td>blues</td>\n",
       "      <td>brain disorder</td>\n",
       "      <td>4</td>\n",
       "    </tr>\n",
       "    <tr>\n",
       "      <th>25</th>\n",
       "      <td>blues</td>\n",
       "      <td>aircraft accident</td>\n",
       "      <td>3</td>\n",
       "    </tr>\n",
       "    <tr>\n",
       "      <th>32</th>\n",
       "      <td>blues</td>\n",
       "      <td>drug overdose</td>\n",
       "      <td>2</td>\n",
       "    </tr>\n",
       "    <tr>\n",
       "      <th>35</th>\n",
       "      <td>blues</td>\n",
       "      <td>natural</td>\n",
       "      <td>2</td>\n",
       "    </tr>\n",
       "    <tr>\n",
       "      <th>37</th>\n",
       "      <td>blues</td>\n",
       "      <td>surgery</td>\n",
       "      <td>2</td>\n",
       "    </tr>\n",
       "    <tr>\n",
       "      <th>48</th>\n",
       "      <td>blues</td>\n",
       "      <td>Burned</td>\n",
       "      <td>1</td>\n",
       "    </tr>\n",
       "    <tr>\n",
       "      <th>51</th>\n",
       "      <td>blues</td>\n",
       "      <td>alcohol related</td>\n",
       "      <td>1</td>\n",
       "    </tr>\n",
       "    <tr>\n",
       "      <th>52</th>\n",
       "      <td>blues</td>\n",
       "      <td>drawning</td>\n",
       "      <td>1</td>\n",
       "    </tr>\n",
       "    <tr>\n",
       "      <th>53</th>\n",
       "      <td>blues</td>\n",
       "      <td>tuberculosis</td>\n",
       "      <td>1</td>\n",
       "    </tr>\n",
       "    <tr>\n",
       "      <th>65</th>\n",
       "      <td>blues</td>\n",
       "      <td>accidental self-inflicted gunshot</td>\n",
       "      <td>1</td>\n",
       "    </tr>\n",
       "  </tbody>\n",
       "</table>\n",
       "</div>"
      ],
      "text/plain": [
       "    genre                              cause  deaths\n",
       "1   blues                      heart disease      20\n",
       "2   blues                             cancer      12\n",
       "5   blues                            unknown       9\n",
       "11  blues                           homicide       7\n",
       "12  blues                           diabetes       5\n",
       "13  blues            car/motorcycle accident       5\n",
       "14  blues                          pneumonia       5\n",
       "18  blues                     brain disorder       4\n",
       "25  blues                  aircraft accident       3\n",
       "32  blues                      drug overdose       2\n",
       "35  blues                            natural       2\n",
       "37  blues                            surgery       2\n",
       "48  blues                             Burned       1\n",
       "51  blues                    alcohol related       1\n",
       "52  blues                           drawning       1\n",
       "53  blues                       tuberculosis       1\n",
       "65  blues  accidental self-inflicted gunshot       1"
      ]
     },
     "execution_count": 131,
     "metadata": {},
     "output_type": "execute_result"
    }
   ],
   "source": [
    "n_blues"
   ]
  },
  {
   "cell_type": "code",
   "execution_count": 132,
   "id": "406640e3",
   "metadata": {},
   "outputs": [
    {
     "data": {
      "image/png": "[encoded data removed]",
      "text/plain": [
       "<Figure size 648x360 with 1 Axes>"
      ]
     },
     "metadata": {
      "needs_background": "light"
     },
     "output_type": "display_data"
    }
   ],
   "source": [
    "plt.figure(figsize=(9,5))\n",
    "plt.bar(n_blues['cause'], n_blues['deaths'])\n",
    "plt.xticks(rotation='vertical')\n",
    "plt.show()\n"
   ]
  },
  {
   "cell_type": "markdown",
   "id": "0e50d315",
   "metadata": {},
   "source": [
    "### Rock"
   ]
  },
  {
   "cell_type": "code",
   "execution_count": 133,
   "id": "11b5dc8d",
   "metadata": {},
   "outputs": [],
   "source": [
    "n_rock = n_cd_gr.loc[n_cd_gr['genre'] == 'rock', ]"
   ]
  },
  {
   "cell_type": "code",
   "execution_count": 134,
   "id": "613d7a88",
   "metadata": {},
   "outputs": [
    {
     "data": {
      "text/html": [
       "<div>\n",
       "<style scoped>\n",
       "    .dataframe tbody tr th:only-of-type {\n",
       "        vertical-align: middle;\n",
       "    }\n",
       "\n",
       "    .dataframe tbody tr th {\n",
       "        vertical-align: top;\n",
       "    }\n",
       "\n",
       "    .dataframe thead th {\n",
       "        text-align: right;\n",
       "    }\n",
       "</style>\n",
       "<table border=\"1\" class=\"dataframe\">\n",
       "  <thead>\n",
       "    <tr style=\"text-align: right;\">\n",
       "      <th></th>\n",
       "      <th>genre</th>\n",
       "      <th>cause</th>\n",
       "      <th>deaths</th>\n",
       "    </tr>\n",
       "  </thead>\n",
       "  <tbody>\n",
       "    <tr>\n",
       "      <th>4</th>\n",
       "      <td>rock</td>\n",
       "      <td>drug overdose</td>\n",
       "      <td>11</td>\n",
       "    </tr>\n",
       "    <tr>\n",
       "      <th>6</th>\n",
       "      <td>rock</td>\n",
       "      <td>car/motorcycle accident</td>\n",
       "      <td>9</td>\n",
       "    </tr>\n",
       "    <tr>\n",
       "      <th>7</th>\n",
       "      <td>rock</td>\n",
       "      <td>suicide</td>\n",
       "      <td>9</td>\n",
       "    </tr>\n",
       "    <tr>\n",
       "      <th>8</th>\n",
       "      <td>rock</td>\n",
       "      <td>alcohol related</td>\n",
       "      <td>8</td>\n",
       "    </tr>\n",
       "    <tr>\n",
       "      <th>10</th>\n",
       "      <td>rock</td>\n",
       "      <td>heart disease</td>\n",
       "      <td>7</td>\n",
       "    </tr>\n",
       "    <tr>\n",
       "      <th>16</th>\n",
       "      <td>rock</td>\n",
       "      <td>drawning</td>\n",
       "      <td>4</td>\n",
       "    </tr>\n",
       "    <tr>\n",
       "      <th>21</th>\n",
       "      <td>rock</td>\n",
       "      <td>aircraft accident</td>\n",
       "      <td>3</td>\n",
       "    </tr>\n",
       "    <tr>\n",
       "      <th>26</th>\n",
       "      <td>rock</td>\n",
       "      <td>cancer</td>\n",
       "      <td>2</td>\n",
       "    </tr>\n",
       "    <tr>\n",
       "      <th>31</th>\n",
       "      <td>rock</td>\n",
       "      <td>pneumonia</td>\n",
       "      <td>2</td>\n",
       "    </tr>\n",
       "    <tr>\n",
       "      <th>34</th>\n",
       "      <td>rock</td>\n",
       "      <td>brain disorder</td>\n",
       "      <td>2</td>\n",
       "    </tr>\n",
       "    <tr>\n",
       "      <th>38</th>\n",
       "      <td>rock</td>\n",
       "      <td>electrocution</td>\n",
       "      <td>2</td>\n",
       "    </tr>\n",
       "    <tr>\n",
       "      <th>41</th>\n",
       "      <td>rock</td>\n",
       "      <td>AIDS</td>\n",
       "      <td>1</td>\n",
       "    </tr>\n",
       "    <tr>\n",
       "      <th>43</th>\n",
       "      <td>rock</td>\n",
       "      <td>homicide</td>\n",
       "      <td>1</td>\n",
       "    </tr>\n",
       "    <tr>\n",
       "      <th>44</th>\n",
       "      <td>rock</td>\n",
       "      <td>Falling</td>\n",
       "      <td>1</td>\n",
       "    </tr>\n",
       "  </tbody>\n",
       "</table>\n",
       "</div>"
      ],
      "text/plain": [
       "   genre                    cause  deaths\n",
       "4   rock            drug overdose      11\n",
       "6   rock  car/motorcycle accident       9\n",
       "7   rock                  suicide       9\n",
       "8   rock          alcohol related       8\n",
       "10  rock            heart disease       7\n",
       "16  rock                 drawning       4\n",
       "21  rock        aircraft accident       3\n",
       "26  rock                   cancer       2\n",
       "31  rock                pneumonia       2\n",
       "34  rock           brain disorder       2\n",
       "38  rock            electrocution       2\n",
       "41  rock                     AIDS       1\n",
       "43  rock                 homicide       1\n",
       "44  rock                  Falling       1"
      ]
     },
     "execution_count": 134,
     "metadata": {},
     "output_type": "execute_result"
    }
   ],
   "source": [
    "n_rock"
   ]
  },
  {
   "cell_type": "code",
   "execution_count": 135,
   "id": "f2c3d19a",
   "metadata": {},
   "outputs": [
    {
     "data": {
      "image/png": "[encoded data removed]",
      "text/plain": [
       "<Figure size 648x360 with 1 Axes>"
      ]
     },
     "metadata": {
      "needs_background": "light"
     },
     "output_type": "display_data"
    }
   ],
   "source": [
    "plt.figure(figsize=(9,5))\n",
    "plt.bar(n_rock['cause'], n_rock['deaths'])\n",
    "plt.xticks(rotation='vertical')\n",
    "\n",
    "plt.show()"
   ]
  },
  {
   "cell_type": "markdown",
   "id": "bf80bd9b",
   "metadata": {},
   "source": [
    "### Rock vs Blues"
   ]
  },
  {
   "cell_type": "code",
   "execution_count": 136,
   "id": "852d6520",
   "metadata": {},
   "outputs": [],
   "source": [
    "n_cause = n_cd_gr['cause'].unique()\n",
    "n_blues_deaths = n_blues['deaths']\n",
    "n_rock_deaths = n_rock['deaths']\n",
    "x_axis = np.arange(len(n_cause))"
   ]
  },
  {
   "cell_type": "code",
   "execution_count": null,
   "id": "2739cd2c",
   "metadata": {},
   "outputs": [],
   "source": []
  },
  {
   "cell_type": "code",
   "execution_count": null,
   "id": "8f0b65fe",
   "metadata": {},
   "outputs": [],
   "source": []
  },
  {
   "cell_type": "code",
   "execution_count": null,
   "id": "6e850252",
   "metadata": {},
   "outputs": [],
   "source": []
  },
  {
   "cell_type": "code",
   "execution_count": null,
   "id": "2ff53e40",
   "metadata": {},
   "outputs": [],
   "source": []
  },
  {
   "cell_type": "markdown",
   "id": "d37f1bc1",
   "metadata": {},
   "source": [
    "## Most common Cause o deaths"
   ]
  },
  {
   "cell_type": "code",
   "execution_count": 137,
   "id": "0146985f",
   "metadata": {},
   "outputs": [],
   "source": [
    "n_cause_death = musician['cause'].value_counts()"
   ]
  },
  {
   "cell_type": "code",
   "execution_count": 138,
   "id": "ca7d2ee9",
   "metadata": {},
   "outputs": [
    {
     "data": {
      "text/plain": [
       "homicide                             70\n",
       "heart disease                        45\n",
       "drug overdose                        22\n",
       "car/motorcycle accident              22\n",
       "cancer                               21\n",
       "unknown                              18\n",
       "suicide                              13\n",
       "aircraft accident                    13\n",
       "brain disorder                       11\n",
       "pneumonia                            10\n",
       "alcohol related                      10\n",
       "diabetes                              7\n",
       "drawning                              6\n",
       "natural                               2\n",
       "AIDS                                  2\n",
       "surgery                               2\n",
       "tuberculosis                          2\n",
       "electrocution                         2\n",
       "Burned                                1\n",
       "kidney related                        1\n",
       "accidental self-inflicted gunshot     1\n",
       "Falling                               1\n",
       "Name: cause, dtype: int64"
      ]
     },
     "execution_count": 138,
     "metadata": {},
     "output_type": "execute_result"
    }
   ],
   "source": [
    "n_cause_death"
   ]
  },
  {
   "cell_type": "markdown",
   "id": "e3797bb3",
   "metadata": {},
   "source": [
    "# Correlation"
   ]
  },
  {
   "cell_type": "markdown",
   "id": "680cba80",
   "metadata": {},
   "source": [
    "### Genre - Cause of death"
   ]
  },
  {
   "cell_type": "markdown",
   "id": "a4137517",
   "metadata": {},
   "source": [
    "### Age - Cause of death"
   ]
  },
  {
   "cell_type": "markdown",
   "id": "cfe838e1",
   "metadata": {},
   "source": [
    "### Genre - Age"
   ]
  },
  {
   "cell_type": "code",
   "execution_count": null,
   "id": "20fa2720",
   "metadata": {},
   "outputs": [],
   "source": []
  }
 ],
 "metadata": {
  "kernelspec": {
   "display_name": "Python 3",
   "language": "python",
   "name": "python3"
  },
  "language_info": {
   "codemirror_mode": {
    "name": "ipython",
    "version": 3
   },
   "file_extension": ".py",
   "mimetype": "text/x-python",
   "name": "python",
   "nbconvert_exporter": "python",
   "pygments_lexer": "ipython3",
   "version": "3.8.8"
  }
 },
 "nbformat": 4,
 "nbformat_minor": 5
}
